{
  "nbformat": 4,
  "nbformat_minor": 0,
  "metadata": {
    "colab": {
      "name": "05 Amazon Fine Food Reviews Analysis_Logistic Regression.ipynb",
      "provenance": [],
      "collapsed_sections": [
        "JriP5nZCLPot"
      ],
      "include_colab_link": true
    },
    "kernelspec": {
      "display_name": "Python 3",
      "language": "python",
      "name": "python3"
    },
    "language_info": {
      "codemirror_mode": {
        "name": "ipython",
        "version": 3
      },
      "file_extension": ".py",
      "mimetype": "text/x-python",
      "name": "python",
      "nbconvert_exporter": "python",
      "pygments_lexer": "ipython3",
      "version": "3.7.4"
    }
  },
  "cells": [
    {
      "cell_type": "markdown",
      "metadata": {
        "id": "view-in-github",
        "colab_type": "text"
      },
      "source": [
        "<a href=\"https://colab.research.google.com/github/aiyazsarwar/Amazon-Fine-Food-Reviews/blob/master/05_Amazon_Fine_Food_Reviews_Analysis_Logistic_Regression.ipynb\" target=\"_parent\"><img src=\"https://colab.research.google.com/assets/colab-badge.svg\" alt=\"Open In Colab\"/></a>"
      ]
    },
    {
      "cell_type": "markdown",
      "metadata": {
        "colab_type": "text",
        "id": "AM7jsfwALPlp"
      },
      "source": [
        "# Amazon Fine Food Reviews Analysis\n",
        "\n",
        "\n",
        "Data Source: https://www.kaggle.com/snap/amazon-fine-food-reviews <br>\n",
        "\n",
        "EDA: https://nycdatascience.com/blog/student-works/amazon-fine-foods-visualization/\n",
        "\n",
        "\n",
        "The Amazon Fine Food Reviews dataset consists of reviews of fine foods from Amazon.<br>\n",
        "\n",
        "Number of reviews: 568,454<br>\n",
        "Number of users: 256,059<br>\n",
        "Number of products: 74,258<br>\n",
        "Timespan: Oct 1999 - Oct 2012<br>\n",
        "Number of Attributes/Columns in data: 10 \n",
        "\n",
        "Attribute Information:\n",
        "\n",
        "1. Id\n",
        "2. ProductId - unique identifier for the product\n",
        "3. UserId - unqiue identifier for the user\n",
        "4. ProfileName\n",
        "5. HelpfulnessNumerator - number of users who found the review helpful\n",
        "6. HelpfulnessDenominator - number of users who indicated whether they found the review helpful or not\n",
        "7. Score - rating between 1 and 5\n",
        "8. Time - timestamp for the review\n",
        "9. Summary - brief summary of the review\n",
        "10. Text - text of the review\n",
        "\n",
        "\n",
        "#### Objective:\n",
        "Given a review, determine whether the review is positive (rating of 4 or 5) or negative (rating of 1 or 2).\n",
        "\n",
        "<br>\n",
        "[Q] How to determine if a review is positive or negative?<br>\n",
        "<br> \n",
        "[Ans] We could use Score/Rating. A rating of 4 or 5 can be cosnidered as a positive review. A rating of 1 or 2 can be considered as negative one. A review of rating 3 is considered nuetral and such reviews are ignored from our analysis. This is an approximate and proxy way of determining the polarity (positivity/negativity) of a review.\n",
        "\n",
        "\n"
      ]
    },
    {
      "cell_type": "markdown",
      "metadata": {
        "colab_type": "text",
        "id": "CaQ7XJ4OLPls"
      },
      "source": [
        "# [1]. Reading Data"
      ]
    },
    {
      "cell_type": "markdown",
      "metadata": {
        "colab_type": "text",
        "id": "5VnEBjKRLPlu"
      },
      "source": [
        "## [1.1] Loading the data\n",
        "\n",
        "The dataset is available in two forms\n",
        "1. .csv file\n",
        "2. SQLite Database\n",
        "\n",
        "In order to load the data, We have used the SQLITE dataset as it is easier to query the data and visualise the data efficiently.\n",
        "<br> \n",
        "\n",
        "Here as we only want to get the global sentiment of the recommendations (positive or negative), we will purposefully ignore all Scores equal to 3. If the score is above 3, then the recommendation wil be set to \"positive\". Otherwise, it will be set to \"negative\"."
      ]
    },
    {
      "cell_type": "code",
      "metadata": {
        "colab_type": "code",
        "id": "x6YclOzXLPlv",
        "colab": {}
      },
      "source": [
        "%matplotlib inline\n",
        "import warnings\n",
        "warnings.filterwarnings(\"ignore\")\n",
        "\n",
        "\n",
        "import sqlite3\n",
        "import pandas as pd\n",
        "import numpy as np\n",
        "import nltk\n",
        "import string\n",
        "import matplotlib.pyplot as plt\n",
        "import seaborn as sns\n",
        "from sklearn.feature_extraction.text import TfidfTransformer\n",
        "from sklearn.feature_extraction.text import TfidfVectorizer\n",
        "\n",
        "from sklearn.feature_extraction.text import CountVectorizer\n",
        "from sklearn.metrics import confusion_matrix\n",
        "from sklearn import metrics\n",
        "from sklearn.metrics import roc_curve, auc\n",
        "from nltk.stem.porter import PorterStemmer\n",
        "\n",
        "import re\n",
        "# Tutorial about Python regular expressions: https://pymotw.com/2/re/\n",
        "import string\n",
        "from nltk.corpus import stopwords\n",
        "from nltk.stem import PorterStemmer\n",
        "from nltk.stem.wordnet import WordNetLemmatizer\n",
        "\n",
        "from gensim.models import Word2Vec\n",
        "from gensim.models import KeyedVectors\n",
        "import pickle\n",
        "\n",
        "from tqdm import tqdm\n",
        "import os"
      ],
      "execution_count": 0,
      "outputs": []
    },
    {
      "cell_type": "code",
      "metadata": {
        "id": "_1Ra7tX4Q3Lr",
        "colab_type": "code",
        "outputId": "6254ae83-0cdc-4f09-db96-ebe922255a6e",
        "colab": {
          "base_uri": "https://localhost:8080/",
          "height": 122
        }
      },
      "source": [
        "from google.colab import drive\n",
        "drive.mount('/content/gdrive')"
      ],
      "execution_count": 2,
      "outputs": [
        {
          "output_type": "stream",
          "text": [
            "Go to this URL in a browser: https://accounts.google.com/o/oauth2/auth?client_id=947318989803-6bn6qk8qdgf4n4g3pfee6491hc0brc4i.apps.googleusercontent.com&redirect_uri=urn%3aietf%3awg%3aoauth%3a2.0%3aoob&response_type=code&scope=email%20https%3a%2f%2fwww.googleapis.com%2fauth%2fdocs.test%20https%3a%2f%2fwww.googleapis.com%2fauth%2fdrive%20https%3a%2f%2fwww.googleapis.com%2fauth%2fdrive.photos.readonly%20https%3a%2f%2fwww.googleapis.com%2fauth%2fpeopleapi.readonly\n",
            "\n",
            "Enter your authorization code:\n",
            "··········\n",
            "Mounted at /content/gdrive\n"
          ],
          "name": "stdout"
        }
      ]
    },
    {
      "cell_type": "code",
      "metadata": {
        "colab_type": "code",
        "id": "NZ4OSpSiLPl0",
        "outputId": "c30eb5b8-dce2-47e0-d7ae-f4254bcddc18",
        "colab": {
          "base_uri": "https://localhost:8080/",
          "height": 227
        }
      },
      "source": [
        "# using SQLite Table to read data.\n",
        "con = sqlite3.connect('/content/gdrive/My Drive/Amazon reviews data set/database.sqlite') \n",
        "\n",
        "# filtering only positive and negative reviews i.e. \n",
        "# not taking into consideration those reviews with Score=3\n",
        "# SELECT * FROM Reviews WHERE Score != 3 LIMIT 500000, will give top 500000 data points\n",
        "# you can change the number to any other number based on your computing power\n",
        "\n",
        "# filtered_data = pd.read_sql_query(\"\"\" SELECT * FROM Reviews WHERE Score != 3 LIMIT 500000\"\"\", con) \n",
        "# for tsne assignment you can take 5k data points\n",
        "\n",
        "filtered_data = pd.read_sql_query(\"\"\" SELECT * FROM Reviews WHERE Score != 3 LIMIT 100000\"\"\", con) \n",
        "\n",
        "# Give reviews with Score>3 a positive rating(1), and reviews with a score<3 a negative rating(0).\n",
        "def partition(x):\n",
        "    if x < 3:\n",
        "        return 0\n",
        "    return 1\n",
        "\n",
        "#changing reviews with score less than 3 to be positive and vice-versa\n",
        "actualScore = filtered_data['Score']\n",
        "positiveNegative = actualScore.map(partition) \n",
        "filtered_data['Score'] = positiveNegative\n",
        "print(\"Number of data points in our data\", filtered_data.shape)\n",
        "filtered_data.head(3)"
      ],
      "execution_count": 3,
      "outputs": [
        {
          "output_type": "stream",
          "text": [
            "Number of data points in our data (100000, 10)\n"
          ],
          "name": "stdout"
        },
        {
          "output_type": "execute_result",
          "data": {
            "text/html": [
              "<div>\n",
              "<style scoped>\n",
              "    .dataframe tbody tr th:only-of-type {\n",
              "        vertical-align: middle;\n",
              "    }\n",
              "\n",
              "    .dataframe tbody tr th {\n",
              "        vertical-align: top;\n",
              "    }\n",
              "\n",
              "    .dataframe thead th {\n",
              "        text-align: right;\n",
              "    }\n",
              "</style>\n",
              "<table border=\"1\" class=\"dataframe\">\n",
              "  <thead>\n",
              "    <tr style=\"text-align: right;\">\n",
              "      <th></th>\n",
              "      <th>Id</th>\n",
              "      <th>ProductId</th>\n",
              "      <th>UserId</th>\n",
              "      <th>ProfileName</th>\n",
              "      <th>HelpfulnessNumerator</th>\n",
              "      <th>HelpfulnessDenominator</th>\n",
              "      <th>Score</th>\n",
              "      <th>Time</th>\n",
              "      <th>Summary</th>\n",
              "      <th>Text</th>\n",
              "    </tr>\n",
              "  </thead>\n",
              "  <tbody>\n",
              "    <tr>\n",
              "      <th>0</th>\n",
              "      <td>1</td>\n",
              "      <td>B001E4KFG0</td>\n",
              "      <td>A3SGXH7AUHU8GW</td>\n",
              "      <td>delmartian</td>\n",
              "      <td>1</td>\n",
              "      <td>1</td>\n",
              "      <td>1</td>\n",
              "      <td>1303862400</td>\n",
              "      <td>Good Quality Dog Food</td>\n",
              "      <td>I have bought several of the Vitality canned d...</td>\n",
              "    </tr>\n",
              "    <tr>\n",
              "      <th>1</th>\n",
              "      <td>2</td>\n",
              "      <td>B00813GRG4</td>\n",
              "      <td>A1D87F6ZCVE5NK</td>\n",
              "      <td>dll pa</td>\n",
              "      <td>0</td>\n",
              "      <td>0</td>\n",
              "      <td>0</td>\n",
              "      <td>1346976000</td>\n",
              "      <td>Not as Advertised</td>\n",
              "      <td>Product arrived labeled as Jumbo Salted Peanut...</td>\n",
              "    </tr>\n",
              "    <tr>\n",
              "      <th>2</th>\n",
              "      <td>3</td>\n",
              "      <td>B000LQOCH0</td>\n",
              "      <td>ABXLMWJIXXAIN</td>\n",
              "      <td>Natalia Corres \"Natalia Corres\"</td>\n",
              "      <td>1</td>\n",
              "      <td>1</td>\n",
              "      <td>1</td>\n",
              "      <td>1219017600</td>\n",
              "      <td>\"Delight\" says it all</td>\n",
              "      <td>This is a confection that has been around a fe...</td>\n",
              "    </tr>\n",
              "  </tbody>\n",
              "</table>\n",
              "</div>"
            ],
            "text/plain": [
              "   Id  ...                                               Text\n",
              "0   1  ...  I have bought several of the Vitality canned d...\n",
              "1   2  ...  Product arrived labeled as Jumbo Salted Peanut...\n",
              "2   3  ...  This is a confection that has been around a fe...\n",
              "\n",
              "[3 rows x 10 columns]"
            ]
          },
          "metadata": {
            "tags": []
          },
          "execution_count": 3
        }
      ]
    },
    {
      "cell_type": "code",
      "metadata": {
        "colab_type": "code",
        "id": "r44Y4VDjLPl7",
        "colab": {}
      },
      "source": [
        "display = pd.read_sql_query(\"\"\"\n",
        "SELECT UserId, ProductId, ProfileName, Time, Score, Text, COUNT(*)\n",
        "FROM Reviews\n",
        "GROUP BY UserId\n",
        "HAVING COUNT(*)>1\n",
        "\"\"\", con)"
      ],
      "execution_count": 0,
      "outputs": []
    },
    {
      "cell_type": "code",
      "metadata": {
        "colab_type": "code",
        "id": "tTwINQv1LPl_",
        "outputId": "b828cb76-cda2-4ee1-b6fe-7d4b84ff0e6d",
        "scrolled": true,
        "colab": {
          "base_uri": "https://localhost:8080/",
          "height": 221
        }
      },
      "source": [
        "print(display.shape)\n",
        "display.head()"
      ],
      "execution_count": 5,
      "outputs": [
        {
          "output_type": "stream",
          "text": [
            "(80668, 7)\n"
          ],
          "name": "stdout"
        },
        {
          "output_type": "execute_result",
          "data": {
            "text/html": [
              "<div>\n",
              "<style scoped>\n",
              "    .dataframe tbody tr th:only-of-type {\n",
              "        vertical-align: middle;\n",
              "    }\n",
              "\n",
              "    .dataframe tbody tr th {\n",
              "        vertical-align: top;\n",
              "    }\n",
              "\n",
              "    .dataframe thead th {\n",
              "        text-align: right;\n",
              "    }\n",
              "</style>\n",
              "<table border=\"1\" class=\"dataframe\">\n",
              "  <thead>\n",
              "    <tr style=\"text-align: right;\">\n",
              "      <th></th>\n",
              "      <th>UserId</th>\n",
              "      <th>ProductId</th>\n",
              "      <th>ProfileName</th>\n",
              "      <th>Time</th>\n",
              "      <th>Score</th>\n",
              "      <th>Text</th>\n",
              "      <th>COUNT(*)</th>\n",
              "    </tr>\n",
              "  </thead>\n",
              "  <tbody>\n",
              "    <tr>\n",
              "      <th>0</th>\n",
              "      <td>#oc-R115TNMSPFT9I7</td>\n",
              "      <td>B007Y59HVM</td>\n",
              "      <td>Breyton</td>\n",
              "      <td>1331510400</td>\n",
              "      <td>2</td>\n",
              "      <td>Overall its just OK when considering the price...</td>\n",
              "      <td>2</td>\n",
              "    </tr>\n",
              "    <tr>\n",
              "      <th>1</th>\n",
              "      <td>#oc-R11D9D7SHXIJB9</td>\n",
              "      <td>B005HG9ET0</td>\n",
              "      <td>Louis E. Emory \"hoppy\"</td>\n",
              "      <td>1342396800</td>\n",
              "      <td>5</td>\n",
              "      <td>My wife has recurring extreme muscle spasms, u...</td>\n",
              "      <td>3</td>\n",
              "    </tr>\n",
              "    <tr>\n",
              "      <th>2</th>\n",
              "      <td>#oc-R11DNU2NBKQ23Z</td>\n",
              "      <td>B007Y59HVM</td>\n",
              "      <td>Kim Cieszykowski</td>\n",
              "      <td>1348531200</td>\n",
              "      <td>1</td>\n",
              "      <td>This coffee is horrible and unfortunately not ...</td>\n",
              "      <td>2</td>\n",
              "    </tr>\n",
              "    <tr>\n",
              "      <th>3</th>\n",
              "      <td>#oc-R11O5J5ZVQE25C</td>\n",
              "      <td>B005HG9ET0</td>\n",
              "      <td>Penguin Chick</td>\n",
              "      <td>1346889600</td>\n",
              "      <td>5</td>\n",
              "      <td>This will be the bottle that you grab from the...</td>\n",
              "      <td>3</td>\n",
              "    </tr>\n",
              "    <tr>\n",
              "      <th>4</th>\n",
              "      <td>#oc-R12KPBODL2B5ZD</td>\n",
              "      <td>B007OSBE1U</td>\n",
              "      <td>Christopher P. Presta</td>\n",
              "      <td>1348617600</td>\n",
              "      <td>1</td>\n",
              "      <td>I didnt like this coffee. Instead of telling y...</td>\n",
              "      <td>2</td>\n",
              "    </tr>\n",
              "  </tbody>\n",
              "</table>\n",
              "</div>"
            ],
            "text/plain": [
              "               UserId  ... COUNT(*)\n",
              "0  #oc-R115TNMSPFT9I7  ...        2\n",
              "1  #oc-R11D9D7SHXIJB9  ...        3\n",
              "2  #oc-R11DNU2NBKQ23Z  ...        2\n",
              "3  #oc-R11O5J5ZVQE25C  ...        3\n",
              "4  #oc-R12KPBODL2B5ZD  ...        2\n",
              "\n",
              "[5 rows x 7 columns]"
            ]
          },
          "metadata": {
            "tags": []
          },
          "execution_count": 5
        }
      ]
    },
    {
      "cell_type": "code",
      "metadata": {
        "colab_type": "code",
        "id": "EOslHQgnLPmF",
        "outputId": "987e5d83-81a4-4ece-bf51-cb2e13d1d7d2",
        "colab": {
          "base_uri": "https://localhost:8080/",
          "height": 80
        }
      },
      "source": [
        "display[display['UserId']=='AZY10LLTJ71NX']"
      ],
      "execution_count": 6,
      "outputs": [
        {
          "output_type": "execute_result",
          "data": {
            "text/html": [
              "<div>\n",
              "<style scoped>\n",
              "    .dataframe tbody tr th:only-of-type {\n",
              "        vertical-align: middle;\n",
              "    }\n",
              "\n",
              "    .dataframe tbody tr th {\n",
              "        vertical-align: top;\n",
              "    }\n",
              "\n",
              "    .dataframe thead th {\n",
              "        text-align: right;\n",
              "    }\n",
              "</style>\n",
              "<table border=\"1\" class=\"dataframe\">\n",
              "  <thead>\n",
              "    <tr style=\"text-align: right;\">\n",
              "      <th></th>\n",
              "      <th>UserId</th>\n",
              "      <th>ProductId</th>\n",
              "      <th>ProfileName</th>\n",
              "      <th>Time</th>\n",
              "      <th>Score</th>\n",
              "      <th>Text</th>\n",
              "      <th>COUNT(*)</th>\n",
              "    </tr>\n",
              "  </thead>\n",
              "  <tbody>\n",
              "    <tr>\n",
              "      <th>80638</th>\n",
              "      <td>AZY10LLTJ71NX</td>\n",
              "      <td>B006P7E5ZI</td>\n",
              "      <td>undertheshrine \"undertheshrine\"</td>\n",
              "      <td>1334707200</td>\n",
              "      <td>5</td>\n",
              "      <td>I was recommended to try green tea extract to ...</td>\n",
              "      <td>5</td>\n",
              "    </tr>\n",
              "  </tbody>\n",
              "</table>\n",
              "</div>"
            ],
            "text/plain": [
              "              UserId  ... COUNT(*)\n",
              "80638  AZY10LLTJ71NX  ...        5\n",
              "\n",
              "[1 rows x 7 columns]"
            ]
          },
          "metadata": {
            "tags": []
          },
          "execution_count": 6
        }
      ]
    },
    {
      "cell_type": "code",
      "metadata": {
        "colab_type": "code",
        "id": "pSwF4sdoLPmM",
        "outputId": "7b129a4f-d83a-4ae0-ec8a-31651021c03f",
        "colab": {
          "base_uri": "https://localhost:8080/",
          "height": 34
        }
      },
      "source": [
        "display['COUNT(*)'].sum()"
      ],
      "execution_count": 7,
      "outputs": [
        {
          "output_type": "execute_result",
          "data": {
            "text/plain": [
              "393063"
            ]
          },
          "metadata": {
            "tags": []
          },
          "execution_count": 7
        }
      ]
    },
    {
      "cell_type": "markdown",
      "metadata": {
        "colab_type": "text",
        "id": "PuNkhjz0LPmQ"
      },
      "source": [
        "#  [2] Exploratory Data Analysis"
      ]
    },
    {
      "cell_type": "markdown",
      "metadata": {
        "colab_type": "text",
        "id": "oCJaTWrTLPmS"
      },
      "source": [
        "## [2.1] Data Cleaning: Deduplication\n",
        "\n",
        "It is observed (as shown in the table below) that the reviews data had many duplicate entries. Hence it was necessary to remove duplicates in order to get unbiased results for the analysis of the data.  Following is an example:"
      ]
    },
    {
      "cell_type": "code",
      "metadata": {
        "colab_type": "code",
        "id": "3lvzRwWVLPmT",
        "outputId": "80b7f53b-926d-49b3-c592-fc0686f232df",
        "scrolled": false,
        "colab": {
          "base_uri": "https://localhost:8080/",
          "height": 374
        }
      },
      "source": [
        "display= pd.read_sql_query(\"\"\"\n",
        "SELECT *\n",
        "FROM Reviews\n",
        "WHERE Score != 3 AND UserId=\"AR5J8UI46CURR\"\n",
        "ORDER BY ProductID\n",
        "\"\"\", con)\n",
        "display.head()"
      ],
      "execution_count": 8,
      "outputs": [
        {
          "output_type": "execute_result",
          "data": {
            "text/html": [
              "<div>\n",
              "<style scoped>\n",
              "    .dataframe tbody tr th:only-of-type {\n",
              "        vertical-align: middle;\n",
              "    }\n",
              "\n",
              "    .dataframe tbody tr th {\n",
              "        vertical-align: top;\n",
              "    }\n",
              "\n",
              "    .dataframe thead th {\n",
              "        text-align: right;\n",
              "    }\n",
              "</style>\n",
              "<table border=\"1\" class=\"dataframe\">\n",
              "  <thead>\n",
              "    <tr style=\"text-align: right;\">\n",
              "      <th></th>\n",
              "      <th>Id</th>\n",
              "      <th>ProductId</th>\n",
              "      <th>UserId</th>\n",
              "      <th>ProfileName</th>\n",
              "      <th>HelpfulnessNumerator</th>\n",
              "      <th>HelpfulnessDenominator</th>\n",
              "      <th>Score</th>\n",
              "      <th>Time</th>\n",
              "      <th>Summary</th>\n",
              "      <th>Text</th>\n",
              "    </tr>\n",
              "  </thead>\n",
              "  <tbody>\n",
              "    <tr>\n",
              "      <th>0</th>\n",
              "      <td>78445</td>\n",
              "      <td>B000HDL1RQ</td>\n",
              "      <td>AR5J8UI46CURR</td>\n",
              "      <td>Geetha Krishnan</td>\n",
              "      <td>2</td>\n",
              "      <td>2</td>\n",
              "      <td>5</td>\n",
              "      <td>1199577600</td>\n",
              "      <td>LOACKER QUADRATINI VANILLA WAFERS</td>\n",
              "      <td>DELICIOUS WAFERS. I FIND THAT EUROPEAN WAFERS ...</td>\n",
              "    </tr>\n",
              "    <tr>\n",
              "      <th>1</th>\n",
              "      <td>138317</td>\n",
              "      <td>B000HDOPYC</td>\n",
              "      <td>AR5J8UI46CURR</td>\n",
              "      <td>Geetha Krishnan</td>\n",
              "      <td>2</td>\n",
              "      <td>2</td>\n",
              "      <td>5</td>\n",
              "      <td>1199577600</td>\n",
              "      <td>LOACKER QUADRATINI VANILLA WAFERS</td>\n",
              "      <td>DELICIOUS WAFERS. I FIND THAT EUROPEAN WAFERS ...</td>\n",
              "    </tr>\n",
              "    <tr>\n",
              "      <th>2</th>\n",
              "      <td>138277</td>\n",
              "      <td>B000HDOPYM</td>\n",
              "      <td>AR5J8UI46CURR</td>\n",
              "      <td>Geetha Krishnan</td>\n",
              "      <td>2</td>\n",
              "      <td>2</td>\n",
              "      <td>5</td>\n",
              "      <td>1199577600</td>\n",
              "      <td>LOACKER QUADRATINI VANILLA WAFERS</td>\n",
              "      <td>DELICIOUS WAFERS. I FIND THAT EUROPEAN WAFERS ...</td>\n",
              "    </tr>\n",
              "    <tr>\n",
              "      <th>3</th>\n",
              "      <td>73791</td>\n",
              "      <td>B000HDOPZG</td>\n",
              "      <td>AR5J8UI46CURR</td>\n",
              "      <td>Geetha Krishnan</td>\n",
              "      <td>2</td>\n",
              "      <td>2</td>\n",
              "      <td>5</td>\n",
              "      <td>1199577600</td>\n",
              "      <td>LOACKER QUADRATINI VANILLA WAFERS</td>\n",
              "      <td>DELICIOUS WAFERS. I FIND THAT EUROPEAN WAFERS ...</td>\n",
              "    </tr>\n",
              "    <tr>\n",
              "      <th>4</th>\n",
              "      <td>155049</td>\n",
              "      <td>B000PAQ75C</td>\n",
              "      <td>AR5J8UI46CURR</td>\n",
              "      <td>Geetha Krishnan</td>\n",
              "      <td>2</td>\n",
              "      <td>2</td>\n",
              "      <td>5</td>\n",
              "      <td>1199577600</td>\n",
              "      <td>LOACKER QUADRATINI VANILLA WAFERS</td>\n",
              "      <td>DELICIOUS WAFERS. I FIND THAT EUROPEAN WAFERS ...</td>\n",
              "    </tr>\n",
              "  </tbody>\n",
              "</table>\n",
              "</div>"
            ],
            "text/plain": [
              "       Id  ...                                               Text\n",
              "0   78445  ...  DELICIOUS WAFERS. I FIND THAT EUROPEAN WAFERS ...\n",
              "1  138317  ...  DELICIOUS WAFERS. I FIND THAT EUROPEAN WAFERS ...\n",
              "2  138277  ...  DELICIOUS WAFERS. I FIND THAT EUROPEAN WAFERS ...\n",
              "3   73791  ...  DELICIOUS WAFERS. I FIND THAT EUROPEAN WAFERS ...\n",
              "4  155049  ...  DELICIOUS WAFERS. I FIND THAT EUROPEAN WAFERS ...\n",
              "\n",
              "[5 rows x 10 columns]"
            ]
          },
          "metadata": {
            "tags": []
          },
          "execution_count": 8
        }
      ]
    },
    {
      "cell_type": "markdown",
      "metadata": {
        "colab_type": "text",
        "id": "uT7p9_deLPmb"
      },
      "source": [
        "As it can be seen above that same user has multiple reviews with same values for HelpfulnessNumerator, HelpfulnessDenominator, Score, Time, Summary and Text and on doing analysis it was found that <br>\n",
        "<br> \n",
        "ProductId=B000HDOPZG was Loacker Quadratini Vanilla Wafer Cookies, 8.82-Ounce Packages (Pack of 8)<br>\n",
        "<br> \n",
        "ProductId=B000HDL1RQ was Loacker Quadratini Lemon Wafer Cookies, 8.82-Ounce Packages (Pack of 8) and so on<br>\n",
        "\n",
        "It was inferred after analysis that reviews with same parameters other than ProductId belonged to the same product just having different flavour or quantity. Hence in order to reduce redundancy it was decided to eliminate the rows having same parameters.<br>\n",
        "\n",
        "The method used for the same was that we first sort the data according to ProductId and then just keep the first similar product review and delelte the others. for eg. in the above just the review for ProductId=B000HDL1RQ remains. This method ensures that there is only one representative for each product and deduplication without sorting would lead to possibility of different representatives still existing for the same product."
      ]
    },
    {
      "cell_type": "code",
      "metadata": {
        "colab_type": "code",
        "id": "mdsKFc50LPme",
        "colab": {}
      },
      "source": [
        "#Sorting data according to ProductId in ascending order\n",
        "sorted_data=filtered_data.sort_values('ProductId', axis=0, ascending=True, inplace=False, kind='quicksort', na_position='last')"
      ],
      "execution_count": 0,
      "outputs": []
    },
    {
      "cell_type": "code",
      "metadata": {
        "id": "-kNLTsbXV5Yd",
        "colab_type": "code",
        "colab": {}
      },
      "source": [
        ""
      ],
      "execution_count": 0,
      "outputs": []
    },
    {
      "cell_type": "code",
      "metadata": {
        "id": "gYTGoxH2MgJS",
        "colab_type": "code",
        "colab": {}
      },
      "source": [
        "#Sorting data according to Time in ascending order\n",
        "sorted_data=sorted_data.sort_values('Time', axis=0, ascending=True, inplace=False, kind='quicksort', na_position='last')"
      ],
      "execution_count": 0,
      "outputs": []
    },
    {
      "cell_type": "code",
      "metadata": {
        "id": "6DIFICKtWyyD",
        "colab_type": "code",
        "colab": {
          "base_uri": "https://localhost:8080/",
          "height": 767
        },
        "outputId": "8639e6b7-ab78-4628-83a9-23a3738058f0"
      },
      "source": [
        "sorted_data[:10]"
      ],
      "execution_count": 11,
      "outputs": [
        {
          "output_type": "execute_result",
          "data": {
            "text/html": [
              "<div>\n",
              "<style scoped>\n",
              "    .dataframe tbody tr th:only-of-type {\n",
              "        vertical-align: middle;\n",
              "    }\n",
              "\n",
              "    .dataframe tbody tr th {\n",
              "        vertical-align: top;\n",
              "    }\n",
              "\n",
              "    .dataframe thead th {\n",
              "        text-align: right;\n",
              "    }\n",
              "</style>\n",
              "<table border=\"1\" class=\"dataframe\">\n",
              "  <thead>\n",
              "    <tr style=\"text-align: right;\">\n",
              "      <th></th>\n",
              "      <th>Id</th>\n",
              "      <th>ProductId</th>\n",
              "      <th>UserId</th>\n",
              "      <th>ProfileName</th>\n",
              "      <th>HelpfulnessNumerator</th>\n",
              "      <th>HelpfulnessDenominator</th>\n",
              "      <th>Score</th>\n",
              "      <th>Time</th>\n",
              "      <th>Summary</th>\n",
              "      <th>Text</th>\n",
              "    </tr>\n",
              "  </thead>\n",
              "  <tbody>\n",
              "    <tr>\n",
              "      <th>70688</th>\n",
              "      <td>76882</td>\n",
              "      <td>B00002N8SM</td>\n",
              "      <td>A32DW342WBJ6BX</td>\n",
              "      <td>Buttersugar</td>\n",
              "      <td>0</td>\n",
              "      <td>0</td>\n",
              "      <td>1</td>\n",
              "      <td>948672000</td>\n",
              "      <td>A sure death for flies</td>\n",
              "      <td>I bought a few of these after my apartment was...</td>\n",
              "    </tr>\n",
              "    <tr>\n",
              "      <th>1146</th>\n",
              "      <td>1245</td>\n",
              "      <td>B00002Z754</td>\n",
              "      <td>A29Z5PI9BW2PU3</td>\n",
              "      <td>Robbie</td>\n",
              "      <td>7</td>\n",
              "      <td>7</td>\n",
              "      <td>1</td>\n",
              "      <td>961718400</td>\n",
              "      <td>Great Product</td>\n",
              "      <td>This was a really good idea and the final prod...</td>\n",
              "    </tr>\n",
              "    <tr>\n",
              "      <th>1145</th>\n",
              "      <td>1244</td>\n",
              "      <td>B00002Z754</td>\n",
              "      <td>A3B8RCEI0FXFI6</td>\n",
              "      <td>B G Chase</td>\n",
              "      <td>10</td>\n",
              "      <td>10</td>\n",
              "      <td>1</td>\n",
              "      <td>962236800</td>\n",
              "      <td>WOW Make your own 'slickers' !</td>\n",
              "      <td>I just received my shipment and could hardly w...</td>\n",
              "    </tr>\n",
              "    <tr>\n",
              "      <th>28087</th>\n",
              "      <td>30630</td>\n",
              "      <td>B00008RCMI</td>\n",
              "      <td>A284C7M23F0APC</td>\n",
              "      <td>A. Mendoza</td>\n",
              "      <td>0</td>\n",
              "      <td>0</td>\n",
              "      <td>1</td>\n",
              "      <td>1067040000</td>\n",
              "      <td>Best sugarless gum ever!</td>\n",
              "      <td>I love this stuff. It is sugar-free so it does...</td>\n",
              "    </tr>\n",
              "    <tr>\n",
              "      <th>28086</th>\n",
              "      <td>30629</td>\n",
              "      <td>B00008RCMI</td>\n",
              "      <td>A19E94CF5O1LY7</td>\n",
              "      <td>Andrew Arnold</td>\n",
              "      <td>0</td>\n",
              "      <td>0</td>\n",
              "      <td>1</td>\n",
              "      <td>1067040000</td>\n",
              "      <td>I've chewed this gum many times, but used?</td>\n",
              "      <td>Nothing against the product, but it does bothe...</td>\n",
              "    </tr>\n",
              "    <tr>\n",
              "      <th>61299</th>\n",
              "      <td>66610</td>\n",
              "      <td>B0000SY9U4</td>\n",
              "      <td>A3EEDHNHI4WNSH</td>\n",
              "      <td>Joanna J. Young</td>\n",
              "      <td>23</td>\n",
              "      <td>23</td>\n",
              "      <td>1</td>\n",
              "      <td>1067472000</td>\n",
              "      <td>Yummy</td>\n",
              "      <td>If you've never tried Kona coffee, Aloha Islan...</td>\n",
              "    </tr>\n",
              "    <tr>\n",
              "      <th>77066</th>\n",
              "      <td>83844</td>\n",
              "      <td>B0000SY9UE</td>\n",
              "      <td>A3EEDHNHI4WNSH</td>\n",
              "      <td>Joanna J. Young</td>\n",
              "      <td>23</td>\n",
              "      <td>23</td>\n",
              "      <td>1</td>\n",
              "      <td>1067472000</td>\n",
              "      <td>Yummy</td>\n",
              "      <td>If you've never tried Kona coffee, Aloha Islan...</td>\n",
              "    </tr>\n",
              "    <tr>\n",
              "      <th>38740</th>\n",
              "      <td>42069</td>\n",
              "      <td>B0000EIEQU</td>\n",
              "      <td>A1YMJX4YWCE6P4</td>\n",
              "      <td>Jim Carson \"http://www.jimcarson.com\"</td>\n",
              "      <td>12</td>\n",
              "      <td>12</td>\n",
              "      <td>1</td>\n",
              "      <td>1067558400</td>\n",
              "      <td>These limes rule!</td>\n",
              "      <td>Fresh limes are underappreciated, but a joy to...</td>\n",
              "    </tr>\n",
              "    <tr>\n",
              "      <th>38889</th>\n",
              "      <td>42227</td>\n",
              "      <td>B0000A0BS8</td>\n",
              "      <td>A1IU7S4HCK1XK0</td>\n",
              "      <td>Joanna Daneman</td>\n",
              "      <td>5</td>\n",
              "      <td>5</td>\n",
              "      <td>1</td>\n",
              "      <td>1067644800</td>\n",
              "      <td>I gave up on other coffees</td>\n",
              "      <td>The grocery store has all kinds of &amp;quot;gourm...</td>\n",
              "    </tr>\n",
              "    <tr>\n",
              "      <th>38888</th>\n",
              "      <td>42226</td>\n",
              "      <td>B0000A0BS8</td>\n",
              "      <td>A23GFTVIETX7DS</td>\n",
              "      <td>Debbie Lee Wesselmann</td>\n",
              "      <td>5</td>\n",
              "      <td>5</td>\n",
              "      <td>1</td>\n",
              "      <td>1067904000</td>\n",
              "      <td>Five stars if you like Starbucks</td>\n",
              "      <td>This blend is one of Starbucks' gentler blends...</td>\n",
              "    </tr>\n",
              "  </tbody>\n",
              "</table>\n",
              "</div>"
            ],
            "text/plain": [
              "          Id  ...                                               Text\n",
              "70688  76882  ...  I bought a few of these after my apartment was...\n",
              "1146    1245  ...  This was a really good idea and the final prod...\n",
              "1145    1244  ...  I just received my shipment and could hardly w...\n",
              "28087  30630  ...  I love this stuff. It is sugar-free so it does...\n",
              "28086  30629  ...  Nothing against the product, but it does bothe...\n",
              "61299  66610  ...  If you've never tried Kona coffee, Aloha Islan...\n",
              "77066  83844  ...  If you've never tried Kona coffee, Aloha Islan...\n",
              "38740  42069  ...  Fresh limes are underappreciated, but a joy to...\n",
              "38889  42227  ...  The grocery store has all kinds of &quot;gourm...\n",
              "38888  42226  ...  This blend is one of Starbucks' gentler blends...\n",
              "\n",
              "[10 rows x 10 columns]"
            ]
          },
          "metadata": {
            "tags": []
          },
          "execution_count": 11
        }
      ]
    },
    {
      "cell_type": "code",
      "metadata": {
        "colab_type": "code",
        "id": "2itLgX-NLPmk",
        "outputId": "2f1cfe22-7e30-4064-f8ff-ba27915a7a47",
        "colab": {
          "base_uri": "https://localhost:8080/",
          "height": 34
        }
      },
      "source": [
        "#Deduplication of entries\n",
        "final=sorted_data.drop_duplicates(subset={\"UserId\",\"ProfileName\",\"Time\",\"Text\"}, keep='first', inplace=False)\n",
        "final.shape   "
      ],
      "execution_count": 12,
      "outputs": [
        {
          "output_type": "execute_result",
          "data": {
            "text/plain": [
              "(87775, 10)"
            ]
          },
          "metadata": {
            "tags": []
          },
          "execution_count": 12
        }
      ]
    },
    {
      "cell_type": "code",
      "metadata": {
        "colab_type": "code",
        "id": "IBU4iZk4LPmt",
        "outputId": "c10ad3a9-f17d-4168-ac92-d0ae74021b67",
        "colab": {
          "base_uri": "https://localhost:8080/",
          "height": 34
        }
      },
      "source": [
        "#Checking to see how much % of data still remains\n",
        "(final['Id'].size*1.0)/(filtered_data['Id'].size*1.0)*100"
      ],
      "execution_count": 13,
      "outputs": [
        {
          "output_type": "execute_result",
          "data": {
            "text/plain": [
              "87.775"
            ]
          },
          "metadata": {
            "tags": []
          },
          "execution_count": 13
        }
      ]
    },
    {
      "cell_type": "markdown",
      "metadata": {
        "colab_type": "text",
        "id": "gFBOfSe4LPmy"
      },
      "source": [
        "<b>Observation:-</b> It was also seen that in two rows given below the value of HelpfulnessNumerator is greater than HelpfulnessDenominator which is not practically possible hence these two rows too are removed from calcualtions"
      ]
    },
    {
      "cell_type": "code",
      "metadata": {
        "colab_type": "code",
        "id": "50flE40lLPmz",
        "outputId": "519fac81-1743-40bc-880e-dc7da26243a3",
        "colab": {
          "base_uri": "https://localhost:8080/",
          "height": 179
        }
      },
      "source": [
        "display= pd.read_sql_query(\"\"\"\n",
        "SELECT *\n",
        "FROM Reviews\n",
        "WHERE Score != 3 AND Id=44737 OR Id=64422\n",
        "ORDER BY ProductID\n",
        "\"\"\", con)\n",
        "\n",
        "display.head()"
      ],
      "execution_count": 14,
      "outputs": [
        {
          "output_type": "execute_result",
          "data": {
            "text/html": [
              "<div>\n",
              "<style scoped>\n",
              "    .dataframe tbody tr th:only-of-type {\n",
              "        vertical-align: middle;\n",
              "    }\n",
              "\n",
              "    .dataframe tbody tr th {\n",
              "        vertical-align: top;\n",
              "    }\n",
              "\n",
              "    .dataframe thead th {\n",
              "        text-align: right;\n",
              "    }\n",
              "</style>\n",
              "<table border=\"1\" class=\"dataframe\">\n",
              "  <thead>\n",
              "    <tr style=\"text-align: right;\">\n",
              "      <th></th>\n",
              "      <th>Id</th>\n",
              "      <th>ProductId</th>\n",
              "      <th>UserId</th>\n",
              "      <th>ProfileName</th>\n",
              "      <th>HelpfulnessNumerator</th>\n",
              "      <th>HelpfulnessDenominator</th>\n",
              "      <th>Score</th>\n",
              "      <th>Time</th>\n",
              "      <th>Summary</th>\n",
              "      <th>Text</th>\n",
              "    </tr>\n",
              "  </thead>\n",
              "  <tbody>\n",
              "    <tr>\n",
              "      <th>0</th>\n",
              "      <td>64422</td>\n",
              "      <td>B000MIDROQ</td>\n",
              "      <td>A161DK06JJMCYF</td>\n",
              "      <td>J. E. Stephens \"Jeanne\"</td>\n",
              "      <td>3</td>\n",
              "      <td>1</td>\n",
              "      <td>5</td>\n",
              "      <td>1224892800</td>\n",
              "      <td>Bought This for My Son at College</td>\n",
              "      <td>My son loves spaghetti so I didn't hesitate or...</td>\n",
              "    </tr>\n",
              "    <tr>\n",
              "      <th>1</th>\n",
              "      <td>44737</td>\n",
              "      <td>B001EQ55RW</td>\n",
              "      <td>A2V0I904FH7ABY</td>\n",
              "      <td>Ram</td>\n",
              "      <td>3</td>\n",
              "      <td>2</td>\n",
              "      <td>4</td>\n",
              "      <td>1212883200</td>\n",
              "      <td>Pure cocoa taste with crunchy almonds inside</td>\n",
              "      <td>It was almost a 'love at first bite' - the per...</td>\n",
              "    </tr>\n",
              "  </tbody>\n",
              "</table>\n",
              "</div>"
            ],
            "text/plain": [
              "      Id  ...                                               Text\n",
              "0  64422  ...  My son loves spaghetti so I didn't hesitate or...\n",
              "1  44737  ...  It was almost a 'love at first bite' - the per...\n",
              "\n",
              "[2 rows x 10 columns]"
            ]
          },
          "metadata": {
            "tags": []
          },
          "execution_count": 14
        }
      ]
    },
    {
      "cell_type": "code",
      "metadata": {
        "colab_type": "code",
        "id": "0YTPJMLTLPm7",
        "colab": {}
      },
      "source": [
        "final=final[final.HelpfulnessNumerator<=final.HelpfulnessDenominator]"
      ],
      "execution_count": 0,
      "outputs": []
    },
    {
      "cell_type": "code",
      "metadata": {
        "colab_type": "code",
        "id": "LVJ_l-x2LPnC",
        "outputId": "e63ed9e3-cf0a-4376-b84f-c58723487d99",
        "colab": {
          "base_uri": "https://localhost:8080/",
          "height": 85
        }
      },
      "source": [
        "#Before starting the next phase of preprocessing lets see the number of entries left\n",
        "print(final.shape)\n",
        "\n",
        "#How many positive and negative reviews are present in our dataset?\n",
        "final['Score'].value_counts()"
      ],
      "execution_count": 16,
      "outputs": [
        {
          "output_type": "stream",
          "text": [
            "(87773, 10)\n"
          ],
          "name": "stdout"
        },
        {
          "output_type": "execute_result",
          "data": {
            "text/plain": [
              "1    73591\n",
              "0    14182\n",
              "Name: Score, dtype: int64"
            ]
          },
          "metadata": {
            "tags": []
          },
          "execution_count": 16
        }
      ]
    },
    {
      "cell_type": "markdown",
      "metadata": {
        "colab_type": "text",
        "id": "GrTYWzYrLPnH"
      },
      "source": [
        "#  [3] Preprocessing"
      ]
    },
    {
      "cell_type": "markdown",
      "metadata": {
        "colab_type": "text",
        "id": "zbvLitZeLPnI"
      },
      "source": [
        "## [3.1].  Preprocessing Review Text\n",
        "\n",
        "Now that we have finished deduplication our data requires some preprocessing before we go on further with analysis and making the prediction model.\n",
        "\n",
        "Hence in the Preprocessing phase we do the following in the order below:-\n",
        "\n",
        "1. Begin by removing the html tags\n",
        "2. Remove any punctuations or limited set of special characters like , or . or # etc.\n",
        "3. Check if the word is made up of english letters and is not alpha-numeric\n",
        "4. Check to see if the length of the word is greater than 2 (as it was researched that there is no adjective in 2-letters)\n",
        "5. Convert the word to lowercase\n",
        "6. Remove Stopwords\n",
        "7. Finally Snowball Stemming the word (it was obsereved to be better than Porter Stemming)<br>\n",
        "\n",
        "After which we collect the words used to describe positive and negative reviews"
      ]
    },
    {
      "cell_type": "code",
      "metadata": {
        "colab_type": "code",
        "id": "yYDc0ZXALPnK",
        "outputId": "75e783d6-ca8f-49cf-99b2-c79a0b514483",
        "colab": {
          "base_uri": "https://localhost:8080/",
          "height": 173
        }
      },
      "source": [
        "# printing some random reviews\n",
        "sent_0 = final['Text'].values[0]\n",
        "print(sent_0)\n",
        "print(\"=\"*50)\n",
        "\n",
        "sent_1000 = final['Text'].values[1000]\n",
        "print(sent_1000)\n",
        "print(\"=\"*50)\n",
        "\n",
        "sent_1500 = final['Text'].values[1500]\n",
        "print(sent_1500)\n",
        "print(\"=\"*50)\n",
        "\n",
        "sent_4900 = final['Text'].values[4900]\n",
        "print(sent_4900)\n",
        "print(\"=\"*50)"
      ],
      "execution_count": 17,
      "outputs": [
        {
          "output_type": "stream",
          "text": [
            "I bought a few of these after my apartment was infested with fruit flies. After only a few hours, the trap had &quot;attracted&quot; many flies and within a few days they were practically gone. This may not be a long term  solution, but if flies are driving you crazy, consider buying this. One  caution- the surface is very sticky, so try to avoid touching it.\n",
            "==================================================\n",
            "I have made these brownies for family and for a den of cub scouts and no one would have known they were gluten free and everyone asked for seconds!  These brownies have a fudgy texture and have bits of chocolate chips in them which are delicious.  I would say the mix is very thick and a little difficult to work with.  The cooked brownies are slightly difficult to cut into very neat edges as the edges tend to crumble a little and I would also say that they make a slightly thinner layer of brownies than most of the store brand gluten containing but they taste just as good, if not better.  Highly recommended!<br /><br />(For those wondering, this mix requires 2 eggs OR 4 egg whites and 7 tbs melted butter to prepare.  They do have suggestions for lactose free and low fat preparations)\n",
            "==================================================\n",
            "I love Pretzels and have to say that after trying my way through many different kinds, these are The BEST.<br /><br />The taste great, are REALLY crunchy - a key requirement for me - and have just the right amount of salt. The Newman's Rounds are just as good - maybe even better.<br /><br />And as an added bonus, Paul Newmann donates all his after tax profits from the sale of his products to charity - an unbeatable combination in my book!\n",
            "==================================================\n",
            "Last fall I bought a slew of different protein bar brands to see which I liked the most.  Of the many brands I tried, most all were roughly the same in taste, texture, etc.  But these Honey Stingers stood out to me.  They have a much smoother texture, and have a great sweetness to them that really makes them taste great.  I'm a huge fan... gonna by a bunch more boxes for snacks and workouts.\n",
            "==================================================\n"
          ],
          "name": "stdout"
        }
      ]
    },
    {
      "cell_type": "code",
      "metadata": {
        "colab_type": "code",
        "id": "AxYh-wPiLPnS",
        "outputId": "8242685d-52e8-49e1-9cba-a75a9e905b59",
        "colab": {
          "base_uri": "https://localhost:8080/",
          "height": 54
        }
      },
      "source": [
        "# remove urls from text python: https://stackoverflow.com/a/40823105/4084039\n",
        "sent_0 = re.sub(r\"http\\S+\", \"\", sent_0)\n",
        "sent_1000 = re.sub(r\"http\\S+\", \"\", sent_1000)\n",
        "sent_150 = re.sub(r\"http\\S+\", \"\", sent_1500)\n",
        "sent_4900 = re.sub(r\"http\\S+\", \"\", sent_4900)\n",
        "\n",
        "print(sent_0)"
      ],
      "execution_count": 18,
      "outputs": [
        {
          "output_type": "stream",
          "text": [
            "I bought a few of these after my apartment was infested with fruit flies. After only a few hours, the trap had &quot;attracted&quot; many flies and within a few days they were practically gone. This may not be a long term  solution, but if flies are driving you crazy, consider buying this. One  caution- the surface is very sticky, so try to avoid touching it.\n"
          ],
          "name": "stdout"
        }
      ]
    },
    {
      "cell_type": "code",
      "metadata": {
        "colab_type": "code",
        "id": "JMSSWjZqLPne",
        "outputId": "a647ae89-c2d5-49dd-8bb1-a72c80ab3ddf",
        "colab": {
          "base_uri": "https://localhost:8080/",
          "height": 156
        }
      },
      "source": [
        "# https://stackoverflow.com/questions/16206380/python-beautifulsoup-how-to-remove-all-tags-from-an-element\n",
        "from bs4 import BeautifulSoup\n",
        "\n",
        "soup = BeautifulSoup(sent_0, 'lxml')\n",
        "text = soup.get_text()\n",
        "print(text)\n",
        "print(\"=\"*50)\n",
        "\n",
        "soup = BeautifulSoup(sent_1000, 'lxml')\n",
        "text = soup.get_text()\n",
        "print(text)\n",
        "print(\"=\"*50)\n",
        "\n",
        "soup = BeautifulSoup(sent_1500, 'lxml')\n",
        "text = soup.get_text()\n",
        "print(text)\n",
        "print(\"=\"*50)\n",
        "\n",
        "soup = BeautifulSoup(sent_4900, 'lxml')\n",
        "text = soup.get_text()\n",
        "print(text)"
      ],
      "execution_count": 19,
      "outputs": [
        {
          "output_type": "stream",
          "text": [
            "I bought a few of these after my apartment was infested with fruit flies. After only a few hours, the trap had \"attracted\" many flies and within a few days they were practically gone. This may not be a long term  solution, but if flies are driving you crazy, consider buying this. One  caution- the surface is very sticky, so try to avoid touching it.\n",
            "==================================================\n",
            "I have made these brownies for family and for a den of cub scouts and no one would have known they were gluten free and everyone asked for seconds!  These brownies have a fudgy texture and have bits of chocolate chips in them which are delicious.  I would say the mix is very thick and a little difficult to work with.  The cooked brownies are slightly difficult to cut into very neat edges as the edges tend to crumble a little and I would also say that they make a slightly thinner layer of brownies than most of the store brand gluten containing but they taste just as good, if not better.  Highly recommended!(For those wondering, this mix requires 2 eggs OR 4 egg whites and 7 tbs melted butter to prepare.  They do have suggestions for lactose free and low fat preparations)\n",
            "==================================================\n",
            "I love Pretzels and have to say that after trying my way through many different kinds, these are The BEST.The taste great, are REALLY crunchy - a key requirement for me - and have just the right amount of salt. The Newman's Rounds are just as good - maybe even better.And as an added bonus, Paul Newmann donates all his after tax profits from the sale of his products to charity - an unbeatable combination in my book!\n",
            "==================================================\n",
            "Last fall I bought a slew of different protein bar brands to see which I liked the most.  Of the many brands I tried, most all were roughly the same in taste, texture, etc.  But these Honey Stingers stood out to me.  They have a much smoother texture, and have a great sweetness to them that really makes them taste great.  I'm a huge fan... gonna by a bunch more boxes for snacks and workouts.\n"
          ],
          "name": "stdout"
        }
      ]
    },
    {
      "cell_type": "code",
      "metadata": {
        "colab_type": "code",
        "id": "BEtpMkhULPnt",
        "colab": {}
      },
      "source": [
        "# https://stackoverflow.com/a/47091490/4084039\n",
        "import re\n",
        "\n",
        "def decontracted(phrase):\n",
        "    # specific\n",
        "    phrase = re.sub(r\"won't\", \"will not\", phrase)\n",
        "    phrase = re.sub(r\"can\\'t\", \"can not\", phrase)\n",
        "\n",
        "    # general\n",
        "    phrase = re.sub(r\"n\\'t\", \" not\", phrase)\n",
        "    phrase = re.sub(r\"\\'re\", \" are\", phrase)\n",
        "    phrase = re.sub(r\"\\'s\", \" is\", phrase)\n",
        "    phrase = re.sub(r\"\\'d\", \" would\", phrase)\n",
        "    phrase = re.sub(r\"\\'ll\", \" will\", phrase)\n",
        "    phrase = re.sub(r\"\\'t\", \" not\", phrase)\n",
        "    phrase = re.sub(r\"\\'ve\", \" have\", phrase)\n",
        "    phrase = re.sub(r\"\\'m\", \" am\", phrase)\n",
        "    return phrase"
      ],
      "execution_count": 0,
      "outputs": []
    },
    {
      "cell_type": "code",
      "metadata": {
        "colab_type": "code",
        "id": "GavAnzNjLPnx",
        "outputId": "82877363-6157-4c89-e3b8-80fb023b079a",
        "colab": {
          "base_uri": "https://localhost:8080/",
          "height": 71
        }
      },
      "source": [
        "sent_1500 = decontracted(sent_1500)\n",
        "print(sent_1500)\n",
        "print(\"=\"*50)"
      ],
      "execution_count": 21,
      "outputs": [
        {
          "output_type": "stream",
          "text": [
            "I love Pretzels and have to say that after trying my way through many different kinds, these are The BEST.<br /><br />The taste great, are REALLY crunchy - a key requirement for me - and have just the right amount of salt. The Newman is Rounds are just as good - maybe even better.<br /><br />And as an added bonus, Paul Newmann donates all his after tax profits from the sale of his products to charity - an unbeatable combination in my book!\n",
            "==================================================\n"
          ],
          "name": "stdout"
        }
      ]
    },
    {
      "cell_type": "code",
      "metadata": {
        "colab_type": "code",
        "id": "Kl8nOoL-LPn3",
        "outputId": "eedd64d5-3403-44ec-e21c-8a00f2c75e19",
        "colab": {
          "base_uri": "https://localhost:8080/",
          "height": 54
        }
      },
      "source": [
        "#remove words with numbers python: https://stackoverflow.com/a/18082370/4084039\n",
        "sent_0 = re.sub(\"\\S*\\d\\S*\", \"\", sent_0).strip()\n",
        "print(sent_0)"
      ],
      "execution_count": 22,
      "outputs": [
        {
          "output_type": "stream",
          "text": [
            "I bought a few of these after my apartment was infested with fruit flies. After only a few hours, the trap had &quot;attracted&quot; many flies and within a few days they were practically gone. This may not be a long term  solution, but if flies are driving you crazy, consider buying this. One  caution- the surface is very sticky, so try to avoid touching it.\n"
          ],
          "name": "stdout"
        }
      ]
    },
    {
      "cell_type": "code",
      "metadata": {
        "colab_type": "code",
        "id": "EGB6X2uxLPn7",
        "outputId": "66cd266e-5abd-4df7-edd7-c9f285ec7065",
        "colab": {
          "base_uri": "https://localhost:8080/",
          "height": 54
        }
      },
      "source": [
        "#remove spacial character: https://stackoverflow.com/a/5843547/4084039\n",
        "sent_1500 = re.sub('[^A-Za-z0-9]+', ' ', sent_1500)\n",
        "print(sent_1500)"
      ],
      "execution_count": 23,
      "outputs": [
        {
          "output_type": "stream",
          "text": [
            "I love Pretzels and have to say that after trying my way through many different kinds these are The BEST br br The taste great are REALLY crunchy a key requirement for me and have just the right amount of salt The Newman is Rounds are just as good maybe even better br br And as an added bonus Paul Newmann donates all his after tax profits from the sale of his products to charity an unbeatable combination in my book \n"
          ],
          "name": "stdout"
        }
      ]
    },
    {
      "cell_type": "code",
      "metadata": {
        "colab_type": "code",
        "id": "CCurSJJ2LPn_",
        "colab": {}
      },
      "source": [
        "# https://gist.github.com/sebleier/554280\n",
        "# we are removing the words from the stop words list: 'no', 'nor', 'not'\n",
        "# <br /><br /> ==> after the above steps, we are getting \"br br\"\n",
        "# we are including them into stop words list\n",
        "# instead of <br /> if we have <br/> these tags would have revmoved in the 1st step\n",
        "\n",
        "stopwords= set(['br', 'the', 'i', 'me', 'my', 'myself', 'we', 'our', 'ours', 'ourselves', 'you', \"you're\", \"you've\",\\\n",
        "            \"you'll\", \"you'd\", 'your', 'yours', 'yourself', 'yourselves', 'he', 'him', 'his', 'himself', \\\n",
        "            'she', \"she's\", 'her', 'hers', 'herself', 'it', \"it's\", 'its', 'itself', 'they', 'them', 'their',\\\n",
        "            'theirs', 'themselves', 'what', 'which', 'who', 'whom', 'this', 'that', \"that'll\", 'these', 'those', \\\n",
        "            'am', 'is', 'are', 'was', 'were', 'be', 'been', 'being', 'have', 'has', 'had', 'having', 'do', 'does', \\\n",
        "            'did', 'doing', 'a', 'an', 'the', 'and', 'but', 'if', 'or', 'because', 'as', 'until', 'while', 'of', \\\n",
        "            'at', 'by', 'for', 'with', 'about', 'against', 'between', 'into', 'through', 'during', 'before', 'after',\\\n",
        "            'above', 'below', 'to', 'from', 'up', 'down', 'in', 'out', 'on', 'off', 'over', 'under', 'again', 'further',\\\n",
        "            'then', 'once', 'here', 'there', 'when', 'where', 'why', 'how', 'all', 'any', 'both', 'each', 'few', 'more',\\\n",
        "            'most', 'other', 'some', 'such', 'only', 'own', 'same', 'so', 'than', 'too', 'very', \\\n",
        "            's', 't', 'can', 'will', 'just', 'don', \"don't\", 'should', \"should've\", 'now', 'd', 'll', 'm', 'o', 're', \\\n",
        "            've', 'y', 'ain', 'aren', \"aren't\", 'couldn', \"couldn't\", 'didn', \"didn't\", 'doesn', \"doesn't\", 'hadn',\\\n",
        "            \"hadn't\", 'hasn', \"hasn't\", 'haven', \"haven't\", 'isn', \"isn't\", 'ma', 'mightn', \"mightn't\", 'mustn',\\\n",
        "            \"mustn't\", 'needn', \"needn't\", 'shan', \"shan't\", 'shouldn', \"shouldn't\", 'wasn', \"wasn't\", 'weren', \"weren't\", \\\n",
        "            'won', \"won't\", 'wouldn', \"wouldn't\"])"
      ],
      "execution_count": 0,
      "outputs": []
    },
    {
      "cell_type": "code",
      "metadata": {
        "colab_type": "code",
        "id": "mFHQEvfnLPoF",
        "outputId": "fd6847dd-ae6d-482a-8c24-0a061e163478",
        "colab": {
          "base_uri": "https://localhost:8080/",
          "height": 34
        }
      },
      "source": [
        "# Combining all the above stundents \n",
        "from tqdm import tqdm\n",
        "preprocessed_reviews = []\n",
        "# tqdm is for printing the status bar\n",
        "for sentance in tqdm(final['Text'].values):\n",
        "    sentance = re.sub(r\"http\\S+\", \"\", sentance)\n",
        "    sentance = BeautifulSoup(sentance, 'lxml').get_text()\n",
        "    sentance = decontracted(sentance)\n",
        "    sentance = re.sub(\"\\S*\\d\\S*\", \"\", sentance).strip()\n",
        "    sentance = re.sub('[^A-Za-z]+', ' ', sentance)\n",
        "    # https://gist.github.com/sebleier/554280\n",
        "    sentance = ' '.join(e.lower() for e in sentance.split() if e.lower() not in stopwords)\n",
        "    preprocessed_reviews.append(sentance.strip())"
      ],
      "execution_count": 25,
      "outputs": [
        {
          "output_type": "stream",
          "text": [
            "100%|██████████| 87773/87773 [00:34<00:00, 2552.00it/s]\n"
          ],
          "name": "stderr"
        }
      ]
    },
    {
      "cell_type": "code",
      "metadata": {
        "colab_type": "code",
        "id": "Tqx8QUeRLPoH",
        "outputId": "377c90a1-5f81-4989-fed3-a636932e8aed",
        "colab": {
          "base_uri": "https://localhost:8080/",
          "height": 54
        }
      },
      "source": [
        "preprocessed_reviews[1500]"
      ],
      "execution_count": 26,
      "outputs": [
        {
          "output_type": "execute_result",
          "data": {
            "text/plain": [
              "'love pretzels say trying way many different kinds best taste great really crunchy key requirement right amount salt newman rounds good maybe even better added bonus paul newmann donates tax profits sale products charity unbeatable combination book'"
            ]
          },
          "metadata": {
            "tags": []
          },
          "execution_count": 26
        }
      ]
    },
    {
      "cell_type": "markdown",
      "metadata": {
        "colab_type": "text",
        "id": "9IuKp2HULPoL"
      },
      "source": [
        "<h2><font color='red'>[3.2] Preprocessing Review Summary</font></h2>"
      ]
    },
    {
      "cell_type": "code",
      "metadata": {
        "colab_type": "code",
        "id": "Qk7gYOmKLPoM",
        "outputId": "0f568e28-fc07-4127-e11d-8f8107f9491a",
        "colab": {
          "base_uri": "https://localhost:8080/",
          "height": 34
        }
      },
      "source": [
        "## Similartly you can do preprocessing for review summary also\n",
        "preprocessed_summary = []\n",
        "# tqdm is for printing the status bar\n",
        "for sentance in tqdm(final['Summary'].values):\n",
        "    sentance = re.sub(r\"http\\S+\", \"\", sentance)\n",
        "    sentance = BeautifulSoup(sentance, 'lxml').get_text()\n",
        "    sentance = decontracted(sentance)\n",
        "    sentance = re.sub(\"\\S*\\d\\S*\", \"\", sentance).strip()\n",
        "    sentance = re.sub('[^A-Za-z]+', ' ', sentance)\n",
        "    # https://gist.github.com/sebleier/554280\n",
        "    sentance = ' '.join(e.lower() for e in sentance.split() if e.lower() not in stopwords)\n",
        "    preprocessed_summary.append(sentance.strip())"
      ],
      "execution_count": 27,
      "outputs": [
        {
          "output_type": "stream",
          "text": [
            "100%|██████████| 87773/87773 [00:22<00:00, 3917.14it/s]\n"
          ],
          "name": "stderr"
        }
      ]
    },
    {
      "cell_type": "markdown",
      "metadata": {
        "id": "vAXYhlYSMgKN",
        "colab_type": "text"
      },
      "source": [
        "# Splitting data into train and test set"
      ]
    },
    {
      "cell_type": "code",
      "metadata": {
        "id": "qIN_Cm3_MgKP",
        "colab_type": "code",
        "colab": {}
      },
      "source": [
        "from sklearn.model_selection import train_test_split\n",
        "\n",
        "X_train,X_test,y_train,y_test = train_test_split(preprocessed_reviews,final['Score'],random_state=100,test_size=0.30,shuffle=False)\n",
        "\n",
        "X_train2,X_CV,y_train2,y_CV = train_test_split(X_train,y_train,random_state=100,test_size=0.30,shuffle=False)"
      ],
      "execution_count": 0,
      "outputs": []
    },
    {
      "cell_type": "markdown",
      "metadata": {
        "colab_type": "text",
        "id": "B93jqKuhLPoQ"
      },
      "source": [
        "# [4] Featurization"
      ]
    },
    {
      "cell_type": "markdown",
      "metadata": {
        "colab_type": "text",
        "id": "Mr4j2QhgLPoQ"
      },
      "source": [
        "## [4.1] BAG OF WORDS"
      ]
    },
    {
      "cell_type": "code",
      "metadata": {
        "colab_type": "code",
        "id": "dZVHt3mtLPoR",
        "outputId": "ac69f242-e880-43d2-f7f7-b9e0dd48b50b",
        "colab": {
          "base_uri": "https://localhost:8080/",
          "height": 102
        }
      },
      "source": [
        "#BoW\n",
        "count_vect = CountVectorizer() #in scikit-learn\n",
        "count_vect.fit(X_train2)\n",
        "print(\"some feature names \", count_vect.get_feature_names()[:10])\n",
        "print('='*50)\n",
        "features_bow = count_vect.get_feature_names()\n",
        "final_counts = count_vect.transform(X_train2)\n",
        "print(\"the type of count vectorizer \",type(final_counts))\n",
        "print(\"the shape of out text BOW vectorizer \",final_counts.get_shape())\n",
        "print(\"the number of unique words \", final_counts.get_shape()[1])\n",
        "\n",
        "final_countsCV = count_vect.transform(X_CV)\n",
        "final_countsTEST = count_vect.transform(X_test)"
      ],
      "execution_count": 29,
      "outputs": [
        {
          "output_type": "stream",
          "text": [
            "some feature names  ['aa', 'aaa', 'aaaa', 'aaaaaaaaaaaaaaa', 'aaaaaaarrrrrggghhh', 'aaaaah', 'aaaah', 'aaaand', 'aachen', 'aadp']\n",
            "==================================================\n",
            "the type of count vectorizer  <class 'scipy.sparse.csr.csr_matrix'>\n",
            "the shape of out text BOW vectorizer  (43008, 38757)\n",
            "the number of unique words  38757\n"
          ],
          "name": "stdout"
        }
      ]
    },
    {
      "cell_type": "markdown",
      "metadata": {
        "colab_type": "text",
        "id": "tSf5kRdLLPoV"
      },
      "source": [
        "## [4.2] Bi-Grams and n-Grams."
      ]
    },
    {
      "cell_type": "code",
      "metadata": {
        "colab_type": "code",
        "id": "Yfk2d7bLLPoW",
        "outputId": "8f2acd32-1a3b-4c96-ce84-0fe5a0baa4be",
        "colab": {
          "base_uri": "https://localhost:8080/",
          "height": 102
        }
      },
      "source": [
        "#bi-gram, tri-gram and n-gram\n",
        "\n",
        "#removing stop words like \"not\" should be avoided before building n-grams\n",
        "# count_vect = CountVectorizer(ngram_range=(1,2))\n",
        "# please do read the CountVectorizer documentation http://scikit-learn.org/stable/modules/generated/sklearn.feature_extraction.text.CountVectorizer.html\n",
        "\n",
        "# you can choose these numebrs min_df=10, max_features=5000, of your choice\n",
        "count_vect2 = CountVectorizer(ngram_range=(1,2), min_df=10, max_features=5000)\n",
        "count_vect2.fit(X_train2)\n",
        "print(\"some feature names \", count_vect2.get_feature_names()[:10])\n",
        "print('='*50)\n",
        "\n",
        "final_bigram_counts = count_vect2.transform(X_train2)\n",
        "\n",
        "print(\"the type of count vectorizer \",type(final_bigram_counts))\n",
        "print(\"the shape of out text BOW vectorizer \",final_bigram_counts.get_shape())\n",
        "print(\"the number of unique words including both unigrams and bigrams \", final_bigram_counts.get_shape()[1])\n",
        "\n",
        "final_bigram_countsCV = count_vect2.transform(X_CV)\n",
        "final_bigram_countsTEST = count_vect2.transform(X_test)"
      ],
      "execution_count": 30,
      "outputs": [
        {
          "output_type": "stream",
          "text": [
            "some feature names  ['ability', 'able', 'able buy', 'able find', 'able get', 'able order', 'absolute', 'absolute favorite', 'absolutely', 'absolutely best']\n",
            "==================================================\n",
            "the type of count vectorizer  <class 'scipy.sparse.csr.csr_matrix'>\n",
            "the shape of out text BOW vectorizer  (43008, 5000)\n",
            "the number of unique words including both unigrams and bigrams  5000\n"
          ],
          "name": "stdout"
        }
      ]
    },
    {
      "cell_type": "markdown",
      "metadata": {
        "colab_type": "text",
        "id": "-cEEpDx0LPoZ"
      },
      "source": [
        "## [4.3] TF-IDF"
      ]
    },
    {
      "cell_type": "code",
      "metadata": {
        "colab_type": "code",
        "id": "TgP61HqBLPoa",
        "outputId": "9a13e253-f794-4694-ea17-735418eab718",
        "colab": {
          "base_uri": "https://localhost:8080/",
          "height": 122
        }
      },
      "source": [
        "tf_idf_vect = TfidfVectorizer(ngram_range=(1,2), min_df=10)\n",
        "tf_idf_vect.fit(X_train2)\n",
        "print(\"some sample features(unique words in the corpus)\",tf_idf_vect.get_feature_names()[0:10])\n",
        "print('='*50)\n",
        "\n",
        "features_tf_idf = tf_idf_vect.get_feature_names()\n",
        "\n",
        "final_tf_idf = tf_idf_vect.transform(X_train2)\n",
        "print(\"the type of count vectorizer \",type(final_tf_idf))\n",
        "print(\"the shape of out text TFIDF vectorizer \",final_tf_idf.get_shape())\n",
        "print(\"the number of unique words including both unigrams and bigrams \", final_tf_idf.get_shape()[1])\n",
        "\n",
        "final_tf_idfCV = tf_idf_vect.transform(X_CV)\n",
        "final_tf_idfTEST = tf_idf_vect.transform(X_test)"
      ],
      "execution_count": 31,
      "outputs": [
        {
          "output_type": "stream",
          "text": [
            "some sample features(unique words in the corpus) ['abandoned', 'abdominal', 'ability', 'able', 'able buy', 'able chew', 'able drink', 'able eat', 'able enjoy', 'able figure']\n",
            "==================================================\n",
            "the type of count vectorizer  <class 'scipy.sparse.csr.csr_matrix'>\n",
            "the shape of out text TFIDF vectorizer  (43008, 25453)\n",
            "the number of unique words including both unigrams and bigrams  25453\n"
          ],
          "name": "stdout"
        }
      ]
    },
    {
      "cell_type": "markdown",
      "metadata": {
        "colab_type": "text",
        "id": "m3YEHTLPLPod"
      },
      "source": [
        "## [4.4] Word2Vec"
      ]
    },
    {
      "cell_type": "code",
      "metadata": {
        "id": "wWIYTVamMgKk",
        "colab_type": "code",
        "colab": {}
      },
      "source": [
        "# Train your own Word2Vec model using your own text corpus\n",
        "i=0\n",
        "list_of_sentence_train=[]\n",
        "for sentence in X_train2:\n",
        "    list_of_sentence_train.append(sentence.split())"
      ],
      "execution_count": 0,
      "outputs": []
    },
    {
      "cell_type": "code",
      "metadata": {
        "id": "hjVc-0GLMgKn",
        "colab_type": "code",
        "outputId": "5d849e1e-4667-42f5-a9c7-64906678c517",
        "colab": {
          "base_uri": "https://localhost:8080/",
          "height": 71
        }
      },
      "source": [
        "from gensim.models import Word2Vec\n",
        "from gensim.models import KeyedVectors\n",
        "\n",
        "w2v_model=Word2Vec(list_of_sentence_train,min_count=5,size=50, workers=4)\n",
        "w2v_words = list(w2v_model.wv.vocab)\n",
        "print(\"number of words that occured minimum 5 times \",len(w2v_words))\n",
        "print(\"sample words \", w2v_words[0:50])"
      ],
      "execution_count": 33,
      "outputs": [
        {
          "output_type": "stream",
          "text": [
            "number of words that occured minimum 5 times  12484\n",
            "sample words  ['bought', 'apartment', 'infested', 'fruit', 'flies', 'hours', 'trap', 'attracted', 'many', 'within', 'days', 'practically', 'gone', 'may', 'not', 'long', 'term', 'solution', 'driving', 'crazy', 'consider', 'buying', 'one', 'caution', 'surface', 'sticky', 'try', 'avoid', 'touching', 'really', 'good', 'idea', 'final', 'product', 'outstanding', 'use', 'car', 'window', 'everybody', 'asks', 'made', 'two', 'thumbs', 'received', 'shipment', 'could', 'hardly', 'wait', 'love', 'call']\n"
          ],
          "name": "stdout"
        }
      ]
    },
    {
      "cell_type": "markdown",
      "metadata": {
        "colab_type": "text",
        "id": "TtWqibqfLPos"
      },
      "source": [
        "## [4.4.1] Converting text into vectors using Avg W2V, TFIDF-W2V"
      ]
    },
    {
      "cell_type": "markdown",
      "metadata": {
        "colab_type": "text",
        "id": "JriP5nZCLPot"
      },
      "source": [
        "#### [4.4.1.1] Avg W2v"
      ]
    },
    {
      "cell_type": "markdown",
      "metadata": {
        "id": "hJ0Aq5_zMgKr",
        "colab_type": "text"
      },
      "source": [
        "#  Converting Train data text"
      ]
    },
    {
      "cell_type": "code",
      "metadata": {
        "colab_type": "code",
        "id": "UnXI9NHTLPot",
        "outputId": "e8356b3b-144a-4af0-8bcf-c7e6b7c90c0d",
        "colab": {
          "base_uri": "https://localhost:8080/",
          "height": 204
        }
      },
      "source": [
        "# average Word2Vec\n",
        "# compute average word2vec for each review.\n",
        "sent_vectors_train = []; # the avg-w2v for each sentence/review is stored in this list\n",
        "for sent in tqdm(list_of_sentence_train): # for each review/sentence\n",
        "    sent_vec = np.zeros(50) # as word vectors are of zero length 50, you might need to change this to 300 if you use google's w2v\n",
        "    cnt_words =0; # num of words with a valid vector in the sentence/review\n",
        "    for word in sent: # for each word in a review/sentence\n",
        "        if word in w2v_words:\n",
        "            vec = w2v_model.wv[word]\n",
        "            sent_vec += vec\n",
        "            cnt_words += 1\n",
        "    if cnt_words != 0:\n",
        "        sent_vec /= cnt_words\n",
        "    sent_vectors_train.append(sent_vec)\n",
        "sent_vectors_train = np.array(sent_vectors_train)\n",
        "print(sent_vectors_train.shape)\n",
        "print(sent_vectors_train[0])"
      ],
      "execution_count": 34,
      "outputs": [
        {
          "output_type": "stream",
          "text": [
            "100%|██████████| 43008/43008 [01:14<00:00, 573.78it/s]\n"
          ],
          "name": "stderr"
        },
        {
          "output_type": "stream",
          "text": [
            "(43008, 50)\n",
            "[-0.20669276  0.58916399 -0.11469726  0.1109095  -0.05957806  0.10982644\n",
            " -0.08652993  0.0399588  -0.08315238 -0.33251048  0.1319007  -0.54469424\n",
            "  0.24005166 -0.49732831  0.12074231  0.2663154   0.40095035 -0.00448499\n",
            "  0.38545787  0.57174001  0.32999158 -0.35981038 -0.27199241  0.11904008\n",
            "  0.03059834  0.39790983  0.32744904 -0.11924028 -0.23483223  0.45556083\n",
            " -0.09304533 -0.37392897  0.33075289  0.29298652 -0.7793197   0.06745431\n",
            "  0.29497722  0.42512537  0.32820056 -0.0345826   0.17788553  0.28533132\n",
            " -0.19980676 -0.08164008 -0.39693502 -0.04115105 -0.28005516  0.62978337\n",
            " -0.01710902  0.17623093]\n"
          ],
          "name": "stdout"
        }
      ]
    },
    {
      "cell_type": "markdown",
      "metadata": {
        "id": "E0mg84QSMgKt",
        "colab_type": "text"
      },
      "source": [
        "# ### Converting CV data text"
      ]
    },
    {
      "cell_type": "code",
      "metadata": {
        "id": "pHOl4MHmMgKu",
        "colab_type": "code",
        "outputId": "0c432818-7785-4a26-d0a1-3f4ddc1bb210",
        "colab": {
          "base_uri": "https://localhost:8080/",
          "height": 204
        }
      },
      "source": [
        "i=0\n",
        "list_of_sentence_cv=[]\n",
        "for sentence in X_CV:\n",
        "    list_of_sentence_cv.append(sentence.split())\n",
        "\n",
        "# average Word2Vec\n",
        "# compute average word2vec for each review.\n",
        "sent_vectors_cv = []; # the avg-w2v for each sentence/review is stored in this list\n",
        "for sent in tqdm(list_of_sentence_cv): # for each review/sentence\n",
        "    sent_vec = np.zeros(50) # as word vectors are of zero length 50, you might need to change this to 300 if you use google's w2v\n",
        "    cnt_words =0; # num of words with a valid vector in the sentence/review\n",
        "    for word in sent: # for each word in a review/sentence\n",
        "        if word in w2v_words:\n",
        "            vec = w2v_model.wv[word]\n",
        "            sent_vec += vec\n",
        "            cnt_words += 1\n",
        "    if cnt_words != 0:\n",
        "        sent_vec /= cnt_words\n",
        "    sent_vectors_cv.append(sent_vec)\n",
        "sent_vectors_cv = np.array(sent_vectors_cv)\n",
        "print(sent_vectors_cv.shape)\n",
        "print(sent_vectors_cv[0])"
      ],
      "execution_count": 35,
      "outputs": [
        {
          "output_type": "stream",
          "text": [
            "100%|██████████| 18433/18433 [00:33<00:00, 543.15it/s]"
          ],
          "name": "stderr"
        },
        {
          "output_type": "stream",
          "text": [
            "(18433, 50)\n",
            "[ 0.19221394  0.54930799  0.65441068 -0.39384748 -1.51399332 -0.14951641\n",
            "  0.70102653  0.50357174  0.21002457 -0.21683838  0.41153982 -0.80419879\n",
            "  0.20480991 -0.91449189  0.73327948  0.52658758  0.68843109 -0.3705822\n",
            "  1.70963038  0.16205138  0.73992799 -0.00548289 -0.59839128 -0.42184987\n",
            " -0.56659937 -0.01804079  0.99513273  0.70575043  0.00317727 -0.2071196\n",
            " -0.49296724  0.00178677 -0.25597909 -0.30077035 -0.12525961 -0.6887949\n",
            "  0.92628943  0.55367268 -0.17519292  0.35644618 -0.91485965 -0.07393792\n",
            "  0.44128274 -0.32410102  0.86501637 -0.47477216  0.10014595  0.44906412\n",
            " -0.300466   -0.37744389]\n"
          ],
          "name": "stdout"
        },
        {
          "output_type": "stream",
          "text": [
            "\n"
          ],
          "name": "stderr"
        }
      ]
    },
    {
      "cell_type": "markdown",
      "metadata": {
        "id": "c0c6eABsMgKw",
        "colab_type": "text"
      },
      "source": [
        "# Converting Test data text"
      ]
    },
    {
      "cell_type": "code",
      "metadata": {
        "id": "qiaZC6xgMgKx",
        "colab_type": "code",
        "outputId": "3c0d2a42-8640-40e2-8eee-3d8f5aac2683",
        "colab": {
          "base_uri": "https://localhost:8080/",
          "height": 204
        }
      },
      "source": [
        "i=0\n",
        "list_of_sentence_test=[]\n",
        "for sentence in X_test:\n",
        "    list_of_sentence_test.append(sentence.split())\n",
        "\n",
        "# average Word2Vec\n",
        "# compute average word2vec for each review.\n",
        "sent_vectors_test = []; # the avg-w2v for each sentence/review is stored in this list\n",
        "for sent in tqdm(list_of_sentence_test): # for each review/sentence\n",
        "    sent_vec = np.zeros(50) # as word vectors are of zero length 50, you might need to change this to 300 if you use google's w2v\n",
        "    cnt_words =0; # num of words with a valid vector in the sentence/review\n",
        "    for word in sent: # for each word in a review/sentence\n",
        "        if word in w2v_words:\n",
        "            vec = w2v_model.wv[word]\n",
        "            sent_vec += vec\n",
        "            cnt_words += 1\n",
        "    if cnt_words != 0:\n",
        "        sent_vec /= cnt_words\n",
        "    sent_vectors_test.append(sent_vec)\n",
        "sent_vectors_test = np.array(sent_vectors_test)\n",
        "print(sent_vectors_test.shape)\n",
        "print(sent_vectors_test[0])"
      ],
      "execution_count": 36,
      "outputs": [
        {
          "output_type": "stream",
          "text": [
            "100%|██████████| 26332/26332 [00:48<00:00, 539.99it/s]"
          ],
          "name": "stderr"
        },
        {
          "output_type": "stream",
          "text": [
            "(26332, 50)\n",
            "[ 0.1810509   0.52466841 -0.16050331 -0.22598343 -0.24575987  0.25827636\n",
            " -0.08188385  0.09919999  0.21543728 -0.32095605  0.56739069 -0.46450456\n",
            "  0.41986997 -0.47424161  0.03135908  0.33251949  0.64295036  0.39475039\n",
            "  0.84644837  0.57304966  0.59594499 -0.67009347  0.14250165  0.45298655\n",
            " -0.11480141  0.58342565  0.42627308  0.22673422 -0.03471594 -0.0432431\n",
            " -0.17933605 -0.36277284  0.61138621  0.26529314 -0.63440522 -0.27990661\n",
            "  0.12806524  0.21393468  0.26524139  0.13753112  0.08736701  0.23594476\n",
            " -0.31135401 -0.25424942 -0.26882972  0.29055052 -0.26700754  0.57805238\n",
            "  0.10821426  0.07791255]\n"
          ],
          "name": "stdout"
        },
        {
          "output_type": "stream",
          "text": [
            "\n"
          ],
          "name": "stderr"
        }
      ]
    },
    {
      "cell_type": "markdown",
      "metadata": {
        "colab_type": "text",
        "id": "2sHfb529LPow"
      },
      "source": [
        "#### [4.4.1.2] TFIDF weighted W2v"
      ]
    },
    {
      "cell_type": "code",
      "metadata": {
        "colab_type": "code",
        "id": "sb_wDjAqLPow",
        "colab": {}
      },
      "source": [
        "# S = [\"abc def pqr\", \"def def def abc\", \"pqr pqr def\"]\n",
        "model_tf = TfidfVectorizer()\n",
        "tf_idf_matrix = model_tf.fit_transform(X_train2)\n",
        "# we are converting a dictionary with word as a key, and the idf as a value\n",
        "dictionary = dict(zip(model_tf.get_feature_names(), list(model_tf.idf_)))"
      ],
      "execution_count": 0,
      "outputs": []
    },
    {
      "cell_type": "markdown",
      "metadata": {
        "id": "yQa5EbdAMgK8",
        "colab_type": "text"
      },
      "source": [
        "# Calculating TFIDF weighted W2V for training data"
      ]
    },
    {
      "cell_type": "code",
      "metadata": {
        "id": "ut-ak7bYMgK8",
        "colab_type": "code",
        "outputId": "6c732ea2-b47e-4dc0-ada6-47f5f5ec187d",
        "colab": {
          "base_uri": "https://localhost:8080/",
          "height": 34
        }
      },
      "source": [
        "# TF-IDF weighted Word2Vec\n",
        "tfidf_feat = model_tf.get_feature_names() # tfidf words/col-names\n",
        "# final_tf_idf is the sparse matrix with row= sentence, col=word and cell_val = tfidf\n",
        "\n",
        "tfidf_sent_vectors_train = []; # the tfidf-w2v for each sentence/review is stored in this list\n",
        "row=0;\n",
        "for sent in tqdm(list_of_sentence_train): # for each review/sentence \n",
        "    sent_vec = np.zeros(50) # as word vectors are of zero length\n",
        "    weight_sum =0; # num of words with a valid vector in the sentence/review\n",
        "    for word in sent: # for each word in a review/sentence\n",
        "        if word in w2v_words and word in tfidf_feat:\n",
        "            vec = w2v_model.wv[word]\n",
        "#             tf_idf = tf_idf_matrix[row, tfidf_feat.index(word)]\n",
        "            # to reduce the computation we are \n",
        "            # dictionary[word] = idf value of word in whole courpus\n",
        "            # sent.count(word) = tf valeus of word in this review\n",
        "            tf_idf = dictionary[word]*(sent.count(word)/len(sent))\n",
        "            sent_vec += (vec * tf_idf)\n",
        "            weight_sum += tf_idf\n",
        "    if weight_sum != 0:\n",
        "        sent_vec /= weight_sum\n",
        "    tfidf_sent_vectors_train.append(sent_vec)\n",
        "    row += 1"
      ],
      "execution_count": 38,
      "outputs": [
        {
          "output_type": "stream",
          "text": [
            "100%|██████████| 43008/43008 [13:02<00:00, 54.99it/s]\n"
          ],
          "name": "stderr"
        }
      ]
    },
    {
      "cell_type": "markdown",
      "metadata": {
        "id": "rqELJcZWMgK-",
        "colab_type": "text"
      },
      "source": [
        "# # Calculating TFIDF weighted W2V for CV data"
      ]
    },
    {
      "cell_type": "code",
      "metadata": {
        "id": "qChmNy3pMgLA",
        "colab_type": "code",
        "outputId": "3c809041-e3c2-4f63-be8a-7949acaf5473",
        "colab": {
          "base_uri": "https://localhost:8080/",
          "height": 34
        }
      },
      "source": [
        "\n",
        "tfidf_sent_vectors_CV = []; # the tfidf-w2v for each sentence/review is stored in this list\n",
        "row=0;\n",
        "for sent in tqdm(list_of_sentence_cv): # for each review/sentence \n",
        "    sent_vec = np.zeros(50) # as word vectors are of zero length\n",
        "    weight_sum =0; # num of words with a valid vector in the sentence/review\n",
        "    for word in sent: # for each word in a review/sentence\n",
        "        if word in w2v_words and word in tfidf_feat:\n",
        "            vec = w2v_model.wv[word]\n",
        "#             tf_idf = tf_idf_matrix[row, tfidf_feat.index(word)]\n",
        "            # to reduce the computation we are \n",
        "            # dictionary[word] = idf value of word in whole courpus\n",
        "            # sent.count(word) = tf valeus of word in this review\n",
        "            tf_idf = dictionary[word]*(sent.count(word)/len(sent))\n",
        "            sent_vec += (vec * tf_idf)\n",
        "            weight_sum += tf_idf\n",
        "    if weight_sum != 0:\n",
        "        sent_vec /= weight_sum\n",
        "    tfidf_sent_vectors_CV.append(sent_vec)\n",
        "    row += 1"
      ],
      "execution_count": 39,
      "outputs": [
        {
          "output_type": "stream",
          "text": [
            "100%|██████████| 18433/18433 [05:43<00:00, 56.70it/s]\n"
          ],
          "name": "stderr"
        }
      ]
    },
    {
      "cell_type": "markdown",
      "metadata": {
        "id": "7dKlnFQcMgLD",
        "colab_type": "text"
      },
      "source": [
        "# Calculating TFIDF weighted W2V for test data"
      ]
    },
    {
      "cell_type": "code",
      "metadata": {
        "id": "Sf2OecQgMgLE",
        "colab_type": "code",
        "colab": {
          "base_uri": "https://localhost:8080/",
          "height": 34
        },
        "outputId": "f1653640-0601-46fc-ab5c-b6eef77166fa"
      },
      "source": [
        "tfidf_sent_vectors_test = []; # the tfidf-w2v for each sentence/review is stored in this list\n",
        "row=0;\n",
        "for sent in tqdm(list_of_sentence_test): # for each review/sentence \n",
        "    sent_vec = np.zeros(50) # as word vectors are of zero length\n",
        "    weight_sum =0; # num of words with a valid vector in the sentence/review\n",
        "    for word in sent: # for each word in a review/sentence\n",
        "        if word in w2v_words and word in tfidf_feat:\n",
        "            vec = w2v_model.wv[word]\n",
        "#             tf_idf = tf_idf_matrix[row, tfidf_feat.index(word)]\n",
        "            # to reduce the computation we are \n",
        "            # dictionary[word] = idf value of word in whole courpus\n",
        "            # sent.count(word) = tf valeus of word in this review\n",
        "            tf_idf = dictionary[word]*(sent.count(word)/len(sent))\n",
        "            sent_vec += (vec * tf_idf)\n",
        "            weight_sum += tf_idf\n",
        "    if weight_sum != 0:\n",
        "        sent_vec /= weight_sum\n",
        "    tfidf_sent_vectors_test.append(sent_vec)\n",
        "    row += 1"
      ],
      "execution_count": 40,
      "outputs": [
        {
          "output_type": "stream",
          "text": [
            "100%|██████████| 26332/26332 [08:22<00:00, 52.41it/s]\n"
          ],
          "name": "stderr"
        }
      ]
    },
    {
      "cell_type": "code",
      "metadata": {
        "id": "7Wmiop7AMgLH",
        "colab_type": "code",
        "colab": {}
      },
      "source": [
        "tfidf_sent_vectors_train = np.array(tfidf_sent_vectors_train)\n",
        "tfidf_sent_vectors_CV = np.array(tfidf_sent_vectors_CV)\n",
        "tfidf_sent_vectors_test = np.array(tfidf_sent_vectors_test)"
      ],
      "execution_count": 0,
      "outputs": []
    },
    {
      "cell_type": "markdown",
      "metadata": {
        "colab_type": "text",
        "id": "Kxx72u1hLPo1"
      },
      "source": [
        "# [5] Assignment 5: Apply Logistic Regression"
      ]
    },
    {
      "cell_type": "markdown",
      "metadata": {
        "colab_type": "text",
        "id": "KDR9We0oLPo2"
      },
      "source": [
        "<ol>\n",
        "    <li><strong>Apply Logistic Regression on these feature sets</strong>\n",
        "        <ul>\n",
        "            <li><font color='red'>SET 1:</font>Review text, preprocessed one converted into vectors using (BOW)</li>\n",
        "            <li><font color='red'>SET 2:</font>Review text, preprocessed one converted into vectors using (TFIDF)</li>\n",
        "            <li><font color='red'>SET 3:</font>Review text, preprocessed one converted into vectors using (AVG W2v)</li>\n",
        "            <li><font color='red'>SET 4:</font>Review text, preprocessed one converted into vectors using (TFIDF W2v)</li>\n",
        "        </ul>\n",
        "    </li>\n",
        "    <br>\n",
        "    <li><strong>Hyper paramter tuning (find best hyper parameters corresponding the algorithm that you choose)</strong>\n",
        "        <ul>\n",
        "    <li>Find the best hyper parameter which will give the maximum <a href='https://www.appliedaicourse.com/course/applied-ai-course-online/lessons/receiver-operating-characteristic-curve-roc-curve-and-auc-1/'>AUC</a> value</li>\n",
        "    <li>Find the best hyper paramter using k-fold cross validation or simple cross validation data</li>\n",
        "    <li>Use gridsearch cv or randomsearch cv or you can also write your own for loops to do this task of hyperparameter tuning</li>          \n",
        "        </ul>\n",
        "    </li>\n",
        "    <br>\n",
        "    <li><strong>Pertubation Test</strong>\n",
        "        <ul>\n",
        "    <li>Get the weights W after fit your model with the data X i.e Train data.</li>\n",
        "    <li>Add a noise to the X (X' = X + e) and get the new data set X' (if X is a sparse\n",
        "matrix, X.data+=e)</li>\n",
        "    <li>Fit the model again on data X' and get the weights W'</li>\n",
        "    <li>Add a small eps value(to eliminate the divisible by zero error) to W and W’ i.e\n",
        "W=W+10^-6 and W’ = W’+10^-6</li>\n",
        "    <li>Now find the % change between W and W' (| (W-W') / (W) |)*100)</li>\n",
        "    <li>Calculate the 0th, 10th, 20th, 30th, ...100th percentiles, and observe any sudden rise in the values of percentage_change_vector</li>\n",
        "    <li> Ex: consider your 99th percentile is 1.3 and your 100th percentiles are 34.6, there is sudden rise from 1.3 to 34.6, now calculate the 99.1, 99.2, 99.3,..., 100th percentile values and get the proper value after which there is sudden rise the values, assume it is 2.5</li>\n",
        "            <li> Print the feature names whose % change is more than a threshold x(in our example it's 2.5)</li>\n",
        "        </ul>\n",
        "    </li>\n",
        "    <br>\n",
        "    <li><strong>Sparsity</strong>\n",
        "        <ul>\n",
        "    <li>Calculate sparsity on weight vector obtained after using L1 regularization</li>\n",
        "        </ul>\n",
        "    </li>\n",
        "    <br><font color='red'>NOTE: Do sparsity and multicollinearity for any one of the vectorizers. Bow or tf-idf is recommended.</font>\n",
        "    <br>\n",
        "    <br>\n",
        "    <li><strong>Feature importance</strong>\n",
        "        <ul>\n",
        "    <li>Get top 10 important features for both positive and negative classes separately.</li>\n",
        "        </ul>\n",
        "    </li>\n",
        "    <br>\n",
        "    <li><strong>Feature engineering</strong>\n",
        "        <ul>\n",
        "    <li>To increase the performance of your model, you can also experiment with with feature engineering like :</li>\n",
        "            <ul>\n",
        "            <li>Taking length of reviews as another feature.</li>\n",
        "            <li>Considering some features from review summary as well.</li>\n",
        "        </ul>\n",
        "        </ul>\n",
        "    </li>\n",
        "    <br>\n",
        "    <li><strong>Representation of results</strong>\n",
        "        <ul>\n",
        "    <li>You need to plot the performance of model both on train data and cross validation data for each hyper parameter, like shown in the figure.\n",
        "    <img src='train_cv_auc.JPG' width=300px></li>\n",
        "    <li>Once after you found the best hyper parameter, you need to train your model with it, and find the AUC on test data and plot the ROC curve on both train and test.\n",
        "    <img src='train_test_auc.JPG' width=300px></li>\n",
        "    <li>Along with plotting ROC curve, you need to print the <a href='https://www.appliedaicourse.com/course/applied-ai-course-online/lessons/confusion-matrix-tpr-fpr-fnr-tnr-1/'>confusion matrix</a> with predicted and original labels of test data points. Please visualize your confusion matrices using <a href='https://seaborn.pydata.org/generated/seaborn.heatmap.html'>seaborn heatmaps.\n",
        "    <img src='confusion_matrix.png' width=300px></li>\n",
        "        </ul>\n",
        "    </li>\n",
        "    <br>\n",
        "    <li><strong>Conclusion</strong>\n",
        "        <ul>\n",
        "    <li>You need to summarize the results at the end of the notebook, summarize it in the table format. To print out a table please refer to this prettytable library<a href='http://zetcode.com/python/prettytable/'>  link</a> \n",
        "        <img src='summary.JPG' width=400px>\n",
        "    </li>\n",
        "        </ul>\n",
        "</ol>"
      ]
    },
    {
      "cell_type": "markdown",
      "metadata": {
        "colab_type": "text",
        "id": "gilb-DOVLPo2"
      },
      "source": [
        "<h4><font color='red'>Note: Data Leakage</font></h4>\n",
        "\n",
        "1. There will be an issue of data-leakage if you vectorize the entire data and then split it into train/cv/test.\n",
        "2. To avoid the issue of data-leakag, make sure to split your data first and then vectorize it. \n",
        "3. While vectorizing your data, apply the method fit_transform() on you train data, and apply the method transform() on cv/test data.\n",
        "4. For more details please go through this <a href='https://soundcloud.com/applied-ai-course/leakage-bow-and-tfidf'>link.</a>"
      ]
    },
    {
      "cell_type": "markdown",
      "metadata": {
        "colab_type": "text",
        "id": "jiYocvSHLPo4"
      },
      "source": [
        "# Applying Logistic Regression"
      ]
    },
    {
      "cell_type": "markdown",
      "metadata": {
        "colab_type": "text",
        "id": "LE_XPVZJLPo4"
      },
      "source": [
        "## [5.1] Logistic Regression on BOW,<font color='red'> SET 1</font>"
      ]
    },
    {
      "cell_type": "markdown",
      "metadata": {
        "colab_type": "text",
        "id": "_iciJvj2LPo4"
      },
      "source": [
        "### [5.1.1] Applying Logistic Regression with L1 regularization on BOW,<font color='red'> SET 1</font>"
      ]
    },
    {
      "cell_type": "code",
      "metadata": {
        "colab_type": "code",
        "id": "MyOVi-xYLPo5",
        "colab": {
          "base_uri": "https://localhost:8080/",
          "height": 238
        },
        "outputId": "368ddef1-b33c-476e-c8a0-dd24c7b8fd6d"
      },
      "source": [
        "# Please write all the code with proper documentation\n",
        "from sklearn.model_selection import RandomizedSearchCV\n",
        "from sklearn.linear_model import LogisticRegression\n",
        "\n",
        "hyperparameters = {'C':[10**-4,10**-2,10**0,10**2,10**4]}\n",
        "model = LogisticRegression(penalty='l1',solver='liblinear',class_weight='balanced')\n",
        "\n",
        "clf_LR_L1 = RandomizedSearchCV(model,param_distributions=hyperparameters,scoring='roc_auc',cv=5,random_state=100,return_train_score=True)\n",
        "clf_LR_L1.fit(final_counts,y_train2)"
      ],
      "execution_count": 43,
      "outputs": [
        {
          "output_type": "execute_result",
          "data": {
            "text/plain": [
              "RandomizedSearchCV(cv=5, error_score=nan,\n",
              "                   estimator=LogisticRegression(C=1.0, class_weight='balanced',\n",
              "                                                dual=False, fit_intercept=True,\n",
              "                                                intercept_scaling=1,\n",
              "                                                l1_ratio=None, max_iter=100,\n",
              "                                                multi_class='auto', n_jobs=None,\n",
              "                                                penalty='l1', random_state=None,\n",
              "                                                solver='liblinear', tol=0.0001,\n",
              "                                                verbose=0, warm_start=False),\n",
              "                   iid='deprecated', n_iter=10, n_jobs=None,\n",
              "                   param_distributions={'C': [0.0001, 0.01, 1, 100, 10000]},\n",
              "                   pre_dispatch='2*n_jobs', random_state=100, refit=True,\n",
              "                   return_train_score=True, scoring='roc_auc', verbose=0)"
            ]
          },
          "metadata": {
            "tags": []
          },
          "execution_count": 43
        }
      ]
    },
    {
      "cell_type": "code",
      "metadata": {
        "id": "brKlDsqPMgLS",
        "colab_type": "code",
        "colab": {
          "base_uri": "https://localhost:8080/",
          "height": 34
        },
        "outputId": "724e1278-681f-4a6f-c27d-e870e4192b09"
      },
      "source": [
        "clf_LR_L1.cv_results_['mean_train_score']"
      ],
      "execution_count": 44,
      "outputs": [
        {
          "output_type": "execute_result",
          "data": {
            "text/plain": [
              "array([0.5       , 0.87712519, 0.99341006, 0.99999677, 0.99999714])"
            ]
          },
          "metadata": {
            "tags": []
          },
          "execution_count": 44
        }
      ]
    },
    {
      "cell_type": "code",
      "metadata": {
        "id": "wIN1GP4-MgLU",
        "colab_type": "code",
        "colab": {
          "base_uri": "https://localhost:8080/",
          "height": 51
        },
        "outputId": "ef849700-48cb-4be0-a827-4d569895617f"
      },
      "source": [
        "AUC_bow_train = clf_LR_L1.cv_results_['mean_train_score']\n",
        "best_auc_score_bow_l1 = clf_LR_L1.best_score_\n",
        "optimal_C_bow_l1 = clf_LR_L1.best_params_['C']\n",
        "\n",
        "print('best_auc_score_bow_l1 ',best_auc_score_bow_l1)\n",
        "print('optimal_C_bow_l1 ',optimal_C_bow_l1)"
      ],
      "execution_count": 45,
      "outputs": [
        {
          "output_type": "stream",
          "text": [
            "best_auc_score_bow_l1  0.919703726203928\n",
            "optimal_C_bow_l1  1\n"
          ],
          "name": "stdout"
        }
      ]
    },
    {
      "cell_type": "code",
      "metadata": {
        "id": "gRRDAQ0OMgLZ",
        "colab_type": "code",
        "colab": {
          "base_uri": "https://localhost:8080/",
          "height": 34
        },
        "outputId": "0bca3a94-4a86-411b-c1f8-9ae3143827c7"
      },
      "source": [
        "clf_LR_L1.cv_results_['params']"
      ],
      "execution_count": 46,
      "outputs": [
        {
          "output_type": "execute_result",
          "data": {
            "text/plain": [
              "[{'C': 0.0001}, {'C': 0.01}, {'C': 1}, {'C': 100}, {'C': 10000}]"
            ]
          },
          "metadata": {
            "tags": []
          },
          "execution_count": 46
        }
      ]
    },
    {
      "cell_type": "code",
      "metadata": {
        "id": "YJl88dzjMgLb",
        "colab_type": "code",
        "colab": {}
      },
      "source": [
        "#[i['C'] for i in clf_LR_L1.cv_results_['params']]"
      ],
      "execution_count": 0,
      "outputs": []
    },
    {
      "cell_type": "code",
      "metadata": {
        "id": "wxeXwXpsMgLd",
        "colab_type": "code",
        "colab": {}
      },
      "source": [
        "#finding auc scores for our CV data for validation\n",
        "AUC_bow_CV_l1 = clf_LR_L1.cv_results_['mean_test_score']\n",
        "    "
      ],
      "execution_count": 0,
      "outputs": []
    },
    {
      "cell_type": "code",
      "metadata": {
        "id": "SLhOwRmKMgLe",
        "colab_type": "code",
        "colab": {
          "base_uri": "https://localhost:8080/",
          "height": 296
        },
        "outputId": "3783e5e0-526c-493a-d677-9c9ca2b63bb5"
      },
      "source": [
        "#plotting ROC curve for train and CV data\n",
        "plt.plot(np.log10(hyperparameters['C']),AUC_bow_train,label='Train AUC values')\n",
        "plt.plot(np.log10(hyperparameters['C']),AUC_bow_CV_l1,label='CV AUC values')\n",
        "plt.legend()\n",
        "plt.grid()\n",
        "plt.xlabel('Hyperparameter - C')\n",
        "plt.ylabel('AUC values')"
      ],
      "execution_count": 49,
      "outputs": [
        {
          "output_type": "execute_result",
          "data": {
            "text/plain": [
              "Text(0, 0.5, 'AUC values')"
            ]
          },
          "metadata": {
            "tags": []
          },
          "execution_count": 49
        },
        {
          "output_type": "display_data",
          "data": {
            "image/png": "[encoded data removed]",
            "text/plain": [
              "<Figure size 432x288 with 1 Axes>"
            ]
          },
          "metadata": {
            "tags": []
          }
        }
      ]
    },
    {
      "cell_type": "markdown",
      "metadata": {
        "id": "HD0cPASuMgLg",
        "colab_type": "text"
      },
      "source": [
        "Observation : Our model is performing well when tested with CV data,so we can go ahead with considering best value of C as optimal_C_bow_l1  "
      ]
    },
    {
      "cell_type": "code",
      "metadata": {
        "id": "MbFHXGtmMgLh",
        "colab_type": "code",
        "colab": {}
      },
      "source": [
        "#As we have selected our best parameter,so finding auc scores for our test data to shown the results\n",
        "\n",
        "model_lr_l1 = LogisticRegression(C=optimal_C_bow_l1 ,class_weight='balanced',penalty='l1',solver='liblinear').fit(final_counts,y_train2)\n",
        "\n",
        "y_train_pred_prob = model_lr_l1.predict_proba(final_counts)[:,1]\n",
        "fpr1,tpr1,t1 = metrics.roc_curve(y_train2,y_train_pred_prob)\n",
        "\n",
        "y_test_pred_prob = model_lr_l1.predict_proba(final_countsTEST)[:,1]\n",
        "fpr2,tpr2,t2 = metrics.roc_curve(y_test,y_test_pred_prob)"
      ],
      "execution_count": 0,
      "outputs": []
    },
    {
      "cell_type": "code",
      "metadata": {
        "id": "w_FWKXsGMgLi",
        "colab_type": "code",
        "colab": {
          "base_uri": "https://localhost:8080/",
          "height": 296
        },
        "outputId": "aab23200-6486-4501-85c8-30568b3e848c"
      },
      "source": [
        "#plotting ROC curve for train and test data\n",
        "plt.plot(fpr1,tpr1,label='Train ROC Curve=' +str(metrics.auc(fpr1,tpr1)))\n",
        "plt.plot(fpr2,tpr2,label='Test ROC Curve=' +str(metrics.auc(fpr2,tpr2)))\n",
        "plt.legend()\n",
        "plt.grid()\n",
        "plt.xlabel('False Positive Rate')\n",
        "plt.ylabel('True Positive Rate')\n"
      ],
      "execution_count": 52,
      "outputs": [
        {
          "output_type": "execute_result",
          "data": {
            "text/plain": [
              "Text(0, 0.5, 'True Positive Rate')"
            ]
          },
          "metadata": {
            "tags": []
          },
          "execution_count": 52
        },
        {
          "output_type": "display_data",
          "data": {
            "image/png": "[encoded data removed]",
            "text/plain": [
              "<Figure size 432x288 with 1 Axes>"
            ]
          },
          "metadata": {
            "tags": []
          }
        }
      ]
    },
    {
      "cell_type": "code",
      "metadata": {
        "id": "UDSfNoC7MgLk",
        "colab_type": "code",
        "colab": {}
      },
      "source": [
        "def find_best_threshold(thresh, fpr, tpr):\n",
        "    t = thresh[np.argmax(tpr*(1-fpr))]\n",
        "    # (tpr*(1-fpr)) will be maximum if your fpr is very low and tpr is very high\n",
        "    print(\"the maximum value of tpr*(1-fpr)\", max(tpr*(1-fpr)), \"for threshold\", np.round(t,3))\n",
        "    return t\n",
        "\n",
        "def predict_with_best_t(proba, thresh):\n",
        "    predictions = []\n",
        "    for i in proba:\n",
        "        if i>=thresh:\n",
        "            predictions.append(1)\n",
        "        else:\n",
        "            predictions.append(0)\n",
        "    return predictions"
      ],
      "execution_count": 0,
      "outputs": []
    },
    {
      "cell_type": "code",
      "metadata": {
        "id": "fXaU5OSvMgLm",
        "colab_type": "code",
        "colab": {
          "base_uri": "https://localhost:8080/",
          "height": 353
        },
        "outputId": "4826af74-e77f-4aff-ae71-10f1d66d7fca"
      },
      "source": [
        "best_t = find_best_threshold(t1,fpr1,tpr1)\n",
        "print(\"*********Train confusion matrix*********\")\n",
        "print(confusion_matrix(y_train2, predict_with_best_t(y_train_pred_prob, best_t)))\n",
        "cm_tr = confusion_matrix(y_train2, predict_with_best_t(y_train_pred_prob, best_t))\n",
        "\n",
        "plt.figure()\n",
        "ax2 = plt.subplot()\n",
        "sns.heatmap(cm_tr,annot=True,ax=ax2,fmt='g')\n"
      ],
      "execution_count": 54,
      "outputs": [
        {
          "output_type": "stream",
          "text": [
            "the maximum value of tpr*(1-fpr) 0.9378685409656237 for threshold 0.428\n",
            "*********Train confusion matrix*********\n",
            "[[ 6200   160]\n",
            " [ 1390 35258]]\n"
          ],
          "name": "stdout"
        },
        {
          "output_type": "execute_result",
          "data": {
            "text/plain": [
              "<matplotlib.axes._subplots.AxesSubplot at 0x7fb9d58936d8>"
            ]
          },
          "metadata": {
            "tags": []
          },
          "execution_count": 54
        },
        {
          "output_type": "display_data",
          "data": {
            "image/png": "[encoded data removed]",
            "text/plain": [
              "<Figure size 432x288 with 2 Axes>"
            ]
          },
          "metadata": {
            "tags": []
          }
        }
      ]
    },
    {
      "cell_type": "code",
      "metadata": {
        "id": "ORm-OaX6MgLp",
        "colab_type": "code",
        "colab": {
          "base_uri": "https://localhost:8080/",
          "height": 336
        },
        "outputId": "0a6caf62-3a06-41d1-97b4-811cb2391ca1"
      },
      "source": [
        "print(\"*********Test confusion matrix*********\")\n",
        "print(confusion_matrix(y_test, predict_with_best_t(y_test_pred_prob, best_t)))\n",
        "cm_test = confusion_matrix(y_test, predict_with_best_t(y_test_pred_prob, best_t))\n",
        "\n",
        "plt.figure()\n",
        "ax2 = plt.subplot()\n",
        "sns.heatmap(cm_test,annot=True,ax=ax2,fmt='g')"
      ],
      "execution_count": 55,
      "outputs": [
        {
          "output_type": "stream",
          "text": [
            "*********Test confusion matrix*********\n",
            "[[ 3529  1027]\n",
            " [ 1665 20111]]\n"
          ],
          "name": "stdout"
        },
        {
          "output_type": "execute_result",
          "data": {
            "text/plain": [
              "<matplotlib.axes._subplots.AxesSubplot at 0x7fb9d558fa90>"
            ]
          },
          "metadata": {
            "tags": []
          },
          "execution_count": 55
        },
        {
          "output_type": "display_data",
          "data": {
            "image/png": "[encoded data removed]",
            "text/plain": [
              "<Figure size 432x288 with 2 Axes>"
            ]
          },
          "metadata": {
            "tags": []
          }
        }
      ]
    },
    {
      "cell_type": "markdown",
      "metadata": {
        "colab_type": "text",
        "id": "5h4NhywcLPo7"
      },
      "source": [
        "#### [5.1.1.1] Calculating sparsity on weight vector obtained using L1 regularization on BOW,<font color='red'> SET 1</font>"
      ]
    },
    {
      "cell_type": "code",
      "metadata": {
        "colab_type": "code",
        "id": "-mmdLzUALPo-",
        "colab": {
          "base_uri": "https://localhost:8080/",
          "height": 51
        },
        "outputId": "a2cf3189-98a4-46aa-8cff-3013ff38b10d"
      },
      "source": [
        "# Please write all the code with proper documentation\n",
        "#using already trained model\n",
        "\n",
        "coef_bow_l1 = model_lr_l1.coef_.ravel()\n",
        "sparsity_bow_l1 = np.mean(coef_bow_l1 == 0) * 100\n",
        "\n",
        "print(sparsity_bow_l1)\n",
        "print(np.count_nonzero(model_lr_l1.coef_))"
      ],
      "execution_count": 56,
      "outputs": [
        {
          "output_type": "stream",
          "text": [
            "89.14776685501974\n",
            "4206\n"
          ],
          "name": "stdout"
        }
      ]
    },
    {
      "cell_type": "markdown",
      "metadata": {
        "colab_type": "text",
        "id": "aRHMa52qLPpA"
      },
      "source": [
        "### [5.1.2] Applying Logistic Regression with L2 regularization on BOW,<font color='red'> SET 1</font>"
      ]
    },
    {
      "cell_type": "code",
      "metadata": {
        "colab_type": "code",
        "id": "GBbb9lxlLPpB",
        "colab": {
          "base_uri": "https://localhost:8080/",
          "height": 347
        },
        "outputId": "62509150-6141-4940-f1cb-87dce649b8bd"
      },
      "source": [
        "# Please write all the code with proper documentation\n",
        "\n",
        "hyperparameters = {'C':[10**-4,10**-2,10**0,10**2,10**4]}\n",
        "model = LogisticRegression(penalty='l2',class_weight='balanced')\n",
        "\n",
        "clf_LR_l2 = RandomizedSearchCV(model,param_distributions=hyperparameters,scoring='roc_auc',cv=10,random_state=100,return_train_score=True)\n",
        "clf_LR_l2.fit(final_counts,y_train2)\n",
        "\n",
        "print('AUC score for Logistic Regression Model with L2 regularization ',clf_LR_l2.cv_results_['mean_train_score'])\n",
        "\n",
        "AUC_bow_train_l2 = clf_LR_l2.cv_results_['mean_train_score']\n",
        "best_auc_score_bow_l2 = clf_LR_l2.best_score_\n",
        "optimal_C_bow_l2 = clf_LR_l2.best_params_['C']\n",
        "\n",
        "print('best_auc_score_bow_l2 ',best_auc_score_bow_l2)\n",
        "print('optimal_C_bow_l2 ',optimal_C_bow_l2)\n",
        "\n",
        "#finding auc scores for our CV data for validation\n",
        "AUC_bow_CV_l2 = clf_LR_l2.cv_results_['mean_test_score']\n",
        "\n",
        "#plotting ROC curve for train and CV data\n",
        "plt.plot(np.log10(hyperparameters['C']),AUC_bow_train_l2,label='Train AUC values')\n",
        "plt.plot(np.log10(hyperparameters['C']),AUC_bow_CV_l2,label='CV AUC values')\n",
        "plt.legend()\n",
        "plt.xlabel('Hyperparameter - C')\n",
        "plt.ylabel('AUC values')\n",
        "\n",
        "#Observation : Our model is performing well when tested with CV data,so we can go ahead with considering best value of C as optimal_C_bow_l1  \n",
        "\n"
      ],
      "execution_count": 57,
      "outputs": [
        {
          "output_type": "stream",
          "text": [
            "AUC score for Logistic Regression Model with L2 regularization  [0.82924336 0.95497765 0.99603677 0.99936396 0.99945627]\n",
            "best_auc_score_bow_l2  0.9261930805224466\n",
            "optimal_C_bow_l2  0.01\n"
          ],
          "name": "stdout"
        },
        {
          "output_type": "execute_result",
          "data": {
            "text/plain": [
              "Text(0, 0.5, 'AUC values')"
            ]
          },
          "metadata": {
            "tags": []
          },
          "execution_count": 57
        },
        {
          "output_type": "display_data",
          "data": {
            "image/png": "[encoded data removed]",
            "text/plain": [
              "<Figure size 432x288 with 1 Axes>"
            ]
          },
          "metadata": {
            "tags": []
          }
        }
      ]
    },
    {
      "cell_type": "code",
      "metadata": {
        "id": "mIwF5gzBMgLx",
        "colab_type": "code",
        "colab": {
          "base_uri": "https://localhost:8080/",
          "height": 295
        },
        "outputId": "bf6f4fa4-3118-42be-9898-64a2de39c03d"
      },
      "source": [
        "model_l2 = LogisticRegression(penalty='l2',C=optimal_C_bow_l2,class_weight='balanced')\n",
        "model_l2 = model_l2.fit(final_counts,y_train2)\n",
        "\n",
        "y_pred_l2 = model_l2.predict_proba(final_counts)[:,1]\n",
        "fpr1,tpr1,t1 = metrics.roc_curve(y_train2,y_pred_l2)\n",
        "\n",
        "y_pred_l22 = model_l2.predict_proba(final_countsTEST)[:,1]\n",
        "fpr2,tpr2,t2 = metrics.roc_curve(y_test,y_pred_l22)\n",
        "\n",
        "plt.plot(fpr1,tpr1,label='Train ROC Curve=' +str(metrics.auc(fpr1,tpr1)))\n",
        "plt.plot(fpr2,tpr2,label='Test ROC Curve=' +str(metrics.auc(fpr2,tpr2)))\n",
        "plt.legend()\n",
        "plt.xlabel('False Positive Rate')\n",
        "plt.ylabel('True Positive Rate')\n",
        "plt.title('ROC curve of train and test data')\n",
        "plt.show()"
      ],
      "execution_count": 58,
      "outputs": [
        {
          "output_type": "display_data",
          "data": {
            "image/png": "[encoded data removed]",
            "text/plain": [
              "<Figure size 432x288 with 1 Axes>"
            ]
          },
          "metadata": {
            "tags": []
          }
        }
      ]
    },
    {
      "cell_type": "code",
      "metadata": {
        "id": "86agPSDAMgL0",
        "colab_type": "code",
        "colab": {
          "base_uri": "https://localhost:8080/",
          "height": 350
        },
        "outputId": "0c3bb86c-521e-4f12-b292-3e24628df0c2"
      },
      "source": [
        "best_t_bow_l2 = find_best_threshold(t1,fpr1,tpr1)\n",
        "print(\"*********Train confusion matrix*********\")\n",
        "print(confusion_matrix(y_train2, predict_with_best_t(y_pred_l2, best_t_bow_l2)))\n",
        "cm_tr = confusion_matrix(y_train2, predict_with_best_t(y_pred_l2, best_t_bow_l2))\n",
        "\n",
        "plt.figure()\n",
        "ax2 = plt.subplot()\n",
        "sns.heatmap(cm_tr,annot=True,ax=ax2,fmt='g')\n"
      ],
      "execution_count": 59,
      "outputs": [
        {
          "output_type": "stream",
          "text": [
            "the maximum value of tpr*(1-fpr) 0.7963381014554236 for threshold 0.494\n",
            "*********Train confusion matrix*********\n",
            "[[ 5702   658]\n",
            " [ 4096 32552]]\n"
          ],
          "name": "stdout"
        },
        {
          "output_type": "execute_result",
          "data": {
            "text/plain": [
              "<matplotlib.axes._subplots.AxesSubplot at 0x7fb9d58933c8>"
            ]
          },
          "metadata": {
            "tags": []
          },
          "execution_count": 59
        },
        {
          "output_type": "display_data",
          "data": {
            "image/png": "[encoded data removed]",
            "text/plain": [
              "<Figure size 432x288 with 2 Axes>"
            ]
          },
          "metadata": {
            "tags": []
          }
        }
      ]
    },
    {
      "cell_type": "code",
      "metadata": {
        "id": "Y35zsjmaMgL3",
        "colab_type": "code",
        "colab": {
          "base_uri": "https://localhost:8080/",
          "height": 333
        },
        "outputId": "42a1063d-ad56-40da-8594-17fa70dee430"
      },
      "source": [
        "print(\"*********Test confusion matrix*********\")\n",
        "print(confusion_matrix(y_test, predict_with_best_t(y_pred_l22, best_t_bow_l2)))\n",
        "cm_test = confusion_matrix(y_test, predict_with_best_t(y_pred_l22, best_t_bow_l2))\n",
        "\n",
        "plt.figure()\n",
        "ax2 = plt.subplot()\n",
        "sns.heatmap(cm_test,annot=True,ax=ax2,fmt='g')"
      ],
      "execution_count": 60,
      "outputs": [
        {
          "output_type": "stream",
          "text": [
            "*********Test confusion matrix*********\n",
            "[[ 3901   655]\n",
            " [ 2810 18966]]\n"
          ],
          "name": "stdout"
        },
        {
          "output_type": "execute_result",
          "data": {
            "text/plain": [
              "<matplotlib.axes._subplots.AxesSubplot at 0x7fb9d5893240>"
            ]
          },
          "metadata": {
            "tags": []
          },
          "execution_count": 60
        },
        {
          "output_type": "display_data",
          "data": {
            "image/png": "[encoded data removed]",
            "text/plain": [
              "<Figure size 432x288 with 2 Axes>"
            ]
          },
          "metadata": {
            "tags": []
          }
        }
      ]
    },
    {
      "cell_type": "code",
      "metadata": {
        "id": "jT7Iq50kMgL7",
        "colab_type": "code",
        "colab": {
          "base_uri": "https://localhost:8080/",
          "height": 51
        },
        "outputId": "4123a56b-b3c5-4e6d-dc08-90e3fca7821d"
      },
      "source": [
        "#Calculating sparsity on weight vector obtained using L2 regularization on BOW\n",
        "#using already trained model\n",
        "\n",
        "coef_bow_l2 = model_l2.coef_.ravel()\n",
        "sparsity_bow_l2 = np.mean(coef_bow_l2 == 0) * 100\n",
        "\n",
        "print('sparsity_bow_l2 ',sparsity_bow_l2)\n",
        "print('Number of non zero entries which indicates sparsity ',np.count_nonzero(model_l2.coef_))"
      ],
      "execution_count": 61,
      "outputs": [
        {
          "output_type": "stream",
          "text": [
            "sparsity_bow_l2  0.0\n",
            "Number of non zero entries which indicates sparsity  38757\n"
          ],
          "name": "stdout"
        }
      ]
    },
    {
      "cell_type": "markdown",
      "metadata": {
        "id": "Ln-W2dBsMgL-",
        "colab_type": "text"
      },
      "source": [
        "OBSERVATION : We see that using l2 penalty the sparsity gets reduced dramatically as compared to l1"
      ]
    },
    {
      "cell_type": "markdown",
      "metadata": {
        "colab_type": "text",
        "id": "UaJkugTKLPpE"
      },
      "source": [
        "#### [5.1.2.1] Performing pertubation test (multicollinearity check) on BOW,<font color='red'> SET 1</font>"
      ]
    },
    {
      "cell_type": "code",
      "metadata": {
        "colab_type": "code",
        "id": "E1c5B1nELPpF",
        "colab": {
          "base_uri": "https://localhost:8080/",
          "height": 34
        },
        "outputId": "c6e5a046-3059-40f0-b4ae-2d558dedc30a"
      },
      "source": [
        "# Please write all the code with proper documentation\n",
        "coef_before_l2 = model_l2.coef_\n",
        "\n",
        "#generating and adding small noise to the data and calculating weights again\n",
        "\n",
        "e = np.random.normal(loc=0,scale=0.000001,size=final_counts.data.shape)\n",
        "X_noisy_l2 = final_counts\n",
        "X_noisy_l2.data = final_counts.data + e\n",
        "\n",
        "print(X_noisy_l2.shape)"
      ],
      "execution_count": 62,
      "outputs": [
        {
          "output_type": "stream",
          "text": [
            "(43008, 38757)\n"
          ],
          "name": "stdout"
        }
      ]
    },
    {
      "cell_type": "code",
      "metadata": {
        "id": "rcYWT8caMgMB",
        "colab_type": "code",
        "colab": {}
      },
      "source": [
        "#Introducing noisy data to our model\n",
        "noisy_model_bow_l2 = LogisticRegression(penalty='l2',C=optimal_C_bow_l2,class_weight='balanced')\n",
        "noisy_model_bow_l2.fit(X_noisy_l2,y_train2)\n",
        "\n",
        "#getting new weights\n",
        "\n",
        "coef_after_l2 = noisy_model_bow_l2.coef_"
      ],
      "execution_count": 0,
      "outputs": []
    },
    {
      "cell_type": "code",
      "metadata": {
        "id": "OOq5BRssMgMF",
        "colab_type": "code",
        "colab": {}
      },
      "source": [
        "#to eliminate divisible by zero error,adding 10^-6 to coef_before_l2 and coef_after_l2\n",
        "coef_before_l2 += 10**-6\n",
        "coef_after_l2 += 10**-6\n",
        "change_vec_l2 = []\n",
        "\n",
        "#Calculating the percentage change in weights\n",
        "for i in range(coef_before_l2.shape[1]):\n",
        "    w = ((coef_after_l2[0][i] - coef_before_l2[0][i])/(coef_before_l2[0][i]))\n",
        "    change_vec_l2.append(w)\n",
        "    "
      ],
      "execution_count": 0,
      "outputs": []
    },
    {
      "cell_type": "code",
      "metadata": {
        "id": "O__bwZB_MgMJ",
        "colab_type": "code",
        "colab": {
          "base_uri": "https://localhost:8080/",
          "height": 204
        },
        "outputId": "a4fe6e22-dabf-4359-c822-9a5bbf28dd2d"
      },
      "source": [
        "#Sorting to get the quantiles\n",
        "change_vec_l2_ = sorted(change_vec_l2,reverse=True)\n",
        "\n",
        "for i in range(11):\n",
        "    print(str(i*10) + 'th percentile value is ' + str(np.quantile(change_vec_l2_,i*0.1)))"
      ],
      "execution_count": 65,
      "outputs": [
        {
          "output_type": "stream",
          "text": [
            "0th percentile value is -0.004379175649395512\n",
            "10th percentile value is -3.2794036906679345e-06\n",
            "20th percentile value is -1.5141264379636856e-06\n",
            "30th percentile value is -8.097359736167566e-07\n",
            "40th percentile value is -3.6667256951606164e-07\n",
            "50th percentile value is -2.878661332265939e-08\n",
            "60th percentile value is 2.847919982082891e-07\n",
            "70th percentile value is 6.39381201945484e-07\n",
            "80th percentile value is 1.0959241236194103e-06\n",
            "90th percentile value is 1.8286153745279417e-06\n",
            "100th percentile value is 0.008164609801692613\n"
          ],
          "name": "stdout"
        }
      ]
    },
    {
      "cell_type": "code",
      "metadata": {
        "id": "J_1hRCkiMgMM",
        "colab_type": "code",
        "colab": {
          "base_uri": "https://localhost:8080/",
          "height": 204
        },
        "outputId": "650708e1-9d48-46cb-b09c-bb44ff2b9fe3"
      },
      "source": [
        "for i in range(90,101):\n",
        "    print(str(i)+'th percentile = '+str(np.percentile(change_vec_l2_,i)))"
      ],
      "execution_count": 66,
      "outputs": [
        {
          "output_type": "stream",
          "text": [
            "90th percentile = 1.8286153745279417e-06\n",
            "91th percentile = 1.9550809446019326e-06\n",
            "92th percentile = 2.081666332246727e-06\n",
            "93th percentile = 2.2565782562130957e-06\n",
            "94th percentile = 2.4633873372811617e-06\n",
            "95th percentile = 2.705933217481079e-06\n",
            "96th percentile = 3.061296675341813e-06\n",
            "97th percentile = 3.5737765833378694e-06\n",
            "98th percentile = 4.639226638362697e-06\n",
            "99th percentile = 8.814000022902006e-06\n",
            "100th percentile = 0.008164609801692613\n"
          ],
          "name": "stdout"
        }
      ]
    },
    {
      "cell_type": "code",
      "metadata": {
        "id": "7iUAnK8NMgMP",
        "colab_type": "code",
        "colab": {
          "base_uri": "https://localhost:8080/",
          "height": 204
        },
        "outputId": "05d034f4-1425-4f0c-e95d-4edbf89b14ed"
      },
      "source": [
        "for i in np.linspace(99,100,11):\n",
        "    print(str(i)+'th percentile = '+str(np.percentile(change_vec_l2_,i)))"
      ],
      "execution_count": 67,
      "outputs": [
        {
          "output_type": "stream",
          "text": [
            "99.0th percentile = 8.814000022902006e-06\n",
            "99.1th percentile = 1.0098558284563463e-05\n",
            "99.2th percentile = 1.1369836897526364e-05\n",
            "99.3th percentile = 1.349697289922318e-05\n",
            "99.4th percentile = 1.583409812159496e-05\n",
            "99.5th percentile = 2.0103094649144117e-05\n",
            "99.6th percentile = 2.5935516061470587e-05\n",
            "99.7th percentile = 3.4084983752137966e-05\n",
            "99.8th percentile = 5.485173252826599e-05\n",
            "99.9th percentile = 0.00019399290130429225\n",
            "100.0th percentile = 0.008164609801692613\n"
          ],
          "name": "stdout"
        }
      ]
    },
    {
      "cell_type": "code",
      "metadata": {
        "id": "7iNJ0W-fMgMT",
        "colab_type": "code",
        "colab": {
          "base_uri": "https://localhost:8080/",
          "height": 204
        },
        "outputId": "01762a44-dcf6-48b0-e1a9-735b85b002ff"
      },
      "source": [
        "for i in np.linspace(99.9,100,11):\n",
        "    print(str(i)+'th percentile = '+str(np.percentile(change_vec_l2_,i)))"
      ],
      "execution_count": 68,
      "outputs": [
        {
          "output_type": "stream",
          "text": [
            "99.9th percentile = 0.00019399290130429225\n",
            "99.91000000000001th percentile = 0.00023914879939485964\n",
            "99.92th percentile = 0.0002874148526526067\n",
            "99.93th percentile = 0.00039675663286166055\n",
            "99.94th percentile = 0.0005971778423523322\n",
            "99.95th percentile = 0.0010515512159889136\n",
            "99.96000000000001th percentile = 0.0010523450117813238\n",
            "99.97th percentile = 0.0015754755333721253\n",
            "99.98th percentile = 0.002271487832570572\n",
            "99.99th percentile = 0.0036030708557768737\n",
            "100.0th percentile = 0.008164609801692613\n"
          ],
          "name": "stdout"
        }
      ]
    },
    {
      "cell_type": "code",
      "metadata": {
        "id": "54EjLQydMgMW",
        "colab_type": "code",
        "colab": {
          "base_uri": "https://localhost:8080/",
          "height": 204
        },
        "outputId": "c2160f7f-d694-4cb1-d169-82d2d119f97b"
      },
      "source": [
        "change_vec_l2 = np.absolute(change_vec_l2).tolist()\n",
        "change_vec_l2_ = np.absolute(change_vec_l2_)\n",
        "j=[]\n",
        "for i in np.linspace(99.9,100,11):\n",
        "    print(i)\n",
        "    j.append(np.percentile(change_vec_l2_,i))\n",
        "    #j = change_vec_l2.index(np.percentile(change_vec_l2_,i))\n",
        "    #print(j)\n",
        "    #print(features_bow[j])"
      ],
      "execution_count": 69,
      "outputs": [
        {
          "output_type": "stream",
          "text": [
            "99.9\n",
            "99.91000000000001\n",
            "99.92\n",
            "99.93\n",
            "99.94\n",
            "99.95\n",
            "99.96000000000001\n",
            "99.97\n",
            "99.98\n",
            "99.99\n",
            "100.0\n"
          ],
          "name": "stdout"
        }
      ]
    },
    {
      "cell_type": "code",
      "metadata": {
        "scrolled": false,
        "id": "4qjnJWkCMgMZ",
        "colab_type": "code",
        "colab": {}
      },
      "source": [
        "#finding the features whose difference is more than 2.5\n",
        "j=[i for i in change_vec_l2 if i > 2.5]\n",
        "\n",
        "for k in j:\n",
        "    print(features_bow[change_vec_l2.index(k)])"
      ],
      "execution_count": 0,
      "outputs": []
    },
    {
      "cell_type": "markdown",
      "metadata": {
        "colab_type": "text",
        "id": "eB1rF0BQLPpG"
      },
      "source": [
        "### [5.1.3] Feature Importance on BOW,<font color='red'> SET 1</font>"
      ]
    },
    {
      "cell_type": "markdown",
      "metadata": {
        "colab_type": "text",
        "id": "JZTP19dqLPpI"
      },
      "source": [
        "#### [5.1.3.1] Top 10 important features of positive class from<font color='red'> SET 1</font>"
      ]
    },
    {
      "cell_type": "code",
      "metadata": {
        "colab_type": "code",
        "id": "oGRpCVJgLPpI",
        "colab": {
          "base_uri": "https://localhost:8080/",
          "height": 187
        },
        "outputId": "ab229f1e-1da1-485c-cea6-aa750682f537"
      },
      "source": [
        "# Please write all the code with proper documentation\n",
        "#finding the index of positive features\n",
        "\n",
        "i_pos = np.argsort(coef_before_l2)[:,::-1]\n",
        "\n",
        "for i in i_pos[0][0:10]:\n",
        "    print(features_bow[i])"
      ],
      "execution_count": 71,
      "outputs": [
        {
          "output_type": "stream",
          "text": [
            "delicious\n",
            "best\n",
            "great\n",
            "perfect\n",
            "excellent\n",
            "loves\n",
            "wonderful\n",
            "easy\n",
            "highly\n",
            "nice\n"
          ],
          "name": "stdout"
        }
      ]
    },
    {
      "cell_type": "markdown",
      "metadata": {
        "colab_type": "text",
        "id": "UJLYBE1gLPpJ"
      },
      "source": [
        "#### [5.1.3.2] Top 10 important features of negative class from<font color='red'> SET 1</font>"
      ]
    },
    {
      "cell_type": "code",
      "metadata": {
        "colab_type": "code",
        "id": "c9r7Zjx1LPpK",
        "colab": {
          "base_uri": "https://localhost:8080/",
          "height": 187
        },
        "outputId": "6a8aaf1e-9903-44d2-acbf-87cc2ec995e1"
      },
      "source": [
        "# Please write all the code with proper documentation\n",
        "i_neg = np.argsort(coef_before_l2)\n",
        "\n",
        "for i in i_neg[0][0:10]:\n",
        "    print(features_bow[i])\n"
      ],
      "execution_count": 72,
      "outputs": [
        {
          "output_type": "stream",
          "text": [
            "disappointed\n",
            "worst\n",
            "unfortunately\n",
            "awful\n",
            "horrible\n",
            "money\n",
            "terrible\n",
            "disappointing\n",
            "waste\n",
            "stale\n"
          ],
          "name": "stdout"
        }
      ]
    },
    {
      "cell_type": "markdown",
      "metadata": {
        "colab_type": "text",
        "id": "nKn3VXcZLPpN"
      },
      "source": [
        "## [5.2] Logistic Regression on TFIDF,<font color='red'> SET 2</font>"
      ]
    },
    {
      "cell_type": "markdown",
      "metadata": {
        "colab_type": "text",
        "id": "naTBSzm6LPpN"
      },
      "source": [
        "### [5.2.1] Applying Logistic Regression with L1 regularization on TFIDF,<font color='red'> SET 2</font>"
      ]
    },
    {
      "cell_type": "code",
      "metadata": {
        "colab_type": "code",
        "id": "PEhaagXXLPpS",
        "colab": {
          "base_uri": "https://localhost:8080/",
          "height": 347
        },
        "outputId": "c9030dc9-9f46-4238-e942-1818e15034ca"
      },
      "source": [
        "# Please write all the code with proper documentation\n",
        "\n",
        "hyperparameters = {'C':[10**-4,10**-2,10**0,10**2,10**4]}\n",
        "model = LogisticRegression(penalty='l1',solver='liblinear',class_weight='balanced')\n",
        "\n",
        "clf_tfidf_l1 = RandomizedSearchCV(model,param_distributions=hyperparameters,scoring='roc_auc',cv=5,random_state=100,return_train_score=True)\n",
        "clf_tfidf_l1.fit(final_tf_idf,y_train2)\n",
        "\n",
        "print('AUC score for Logistic Regression Model with TFIDF features and l1 regularization ',clf_tfidf_l1.cv_results_['mean_train_score'])\n",
        "\n",
        "AUC_tfidf_train_l1 = clf_tfidf_l1.cv_results_['mean_train_score']\n",
        "best_auc_score_tfidf_l1 = clf_tfidf_l1.best_score_\n",
        "optimal_C_tfidf_l1 = clf_tfidf_l1.best_params_['C']\n",
        "\n",
        "print('best_auc_score_tfidf_l1 ',best_auc_score_tfidf_l1)\n",
        "print('optimal_C_tfidf_l1 ',optimal_C_tfidf_l1)\n",
        "\n",
        "#finding auc scores for our CV data for validation\n",
        "AUC_tfidf_CV_l1 = clf_tfidf_l1.cv_results_['mean_test_score']\n",
        "    \n",
        "\n",
        "#plotting ROC curve for train and CV data\n",
        "plt.plot(np.log10(hyperparameters['C']),AUC_tfidf_train_l1,label='Train AUC values')\n",
        "plt.plot(np.log10(hyperparameters['C']),AUC_tfidf_CV_l1,label='CV AUC values')\n",
        "plt.legend()\n",
        "plt.xlabel('Hyperparameter - C')\n",
        "plt.ylabel('AUC values')\n",
        "\n",
        "#Observation : Our model is performing well when tested with CV data,so we can go ahead with considering best value of C as optimal_C_bow_l1  "
      ],
      "execution_count": 73,
      "outputs": [
        {
          "output_type": "stream",
          "text": [
            "AUC score for Logistic Regression Model with TFIDF features and l1 regularization  [0.5        0.68579571 0.97685537 0.99999714 0.99999714]\n",
            "best_auc_score_tfidf_l1  0.948897972639003\n",
            "optimal_C_tfidf_l1  1\n"
          ],
          "name": "stdout"
        },
        {
          "output_type": "execute_result",
          "data": {
            "text/plain": [
              "Text(0, 0.5, 'AUC values')"
            ]
          },
          "metadata": {
            "tags": []
          },
          "execution_count": 73
        },
        {
          "output_type": "display_data",
          "data": {
            "image/png": "[encoded data removed]",
            "text/plain": [
              "<Figure size 432x288 with 1 Axes>"
            ]
          },
          "metadata": {
            "tags": []
          }
        }
      ]
    },
    {
      "cell_type": "code",
      "metadata": {
        "id": "es1en_JBMgMl",
        "colab_type": "code",
        "colab": {
          "base_uri": "https://localhost:8080/",
          "height": 295
        },
        "outputId": "12c87d86-4822-4fe9-cacf-16d0ef135aa2"
      },
      "source": [
        "#Plotting ROC curve as FPR vs TPR\n",
        "\n",
        "model_roc_l1 = LogisticRegression(penalty='l1',solver='liblinear',C=optimal_C_tfidf_l1,class_weight='balanced')\n",
        "model_roc_l1 = model_roc_l1.fit(final_tf_idf,y_train2)\n",
        "\n",
        "y_pred_train_l1 = model_roc_l1.predict_proba(final_tf_idf)[:,1]\n",
        "fpr1,tpr1,t1 = metrics.roc_curve(y_train2,y_pred_train_l1)\n",
        "\n",
        "y_pred_test_l1 = model_roc_l1.predict_proba(final_tf_idfTEST)[:,1]\n",
        "fpr2,tpr2,t2 = metrics.roc_curve(y_test,y_pred_test_l1)\n",
        "\n",
        "plt.plot(fpr1,tpr1,label='Train ROC Curve=' +str(metrics.auc(fpr1,tpr1)))\n",
        "plt.plot(fpr2,tpr2,label='Test ROC Curve=' +str(metrics.auc(fpr2,tpr2)))\n",
        "plt.legend()\n",
        "plt.grid()\n",
        "plt.xlabel('False Positive Rate')\n",
        "plt.ylabel('True Positive Rate')\n",
        "plt.title('ROC curve of train and test data')\n",
        "plt.show()"
      ],
      "execution_count": 74,
      "outputs": [
        {
          "output_type": "display_data",
          "data": {
            "image/png": "[encoded data removed]",
            "text/plain": [
              "<Figure size 432x288 with 1 Axes>"
            ]
          },
          "metadata": {
            "tags": []
          }
        }
      ]
    },
    {
      "cell_type": "code",
      "metadata": {
        "id": "pEJjTv6EMgMn",
        "colab_type": "code",
        "colab": {
          "base_uri": "https://localhost:8080/",
          "height": 350
        },
        "outputId": "69e2fd0c-0df9-45d0-b6a0-f033b79a73de"
      },
      "source": [
        "best_t_tfidf_l1 = find_best_threshold(t1,fpr1,tpr1)\n",
        "print(\"*********Train confusion matrix*********\")\n",
        "print(confusion_matrix(y_train2, predict_with_best_t(y_pred_train_l1, best_t_tfidf_l1)))\n",
        "cm_tr = confusion_matrix(y_train2, predict_with_best_t(y_pred_train_l1, best_t_tfidf_l1))\n",
        "\n",
        "plt.figure()\n",
        "ax2 = plt.subplot()\n",
        "sns.heatmap(cm_tr,annot=True,ax=ax2,fmt='g')"
      ],
      "execution_count": 75,
      "outputs": [
        {
          "output_type": "stream",
          "text": [
            "the maximum value of tpr*(1-fpr) 0.8579915770155373 for threshold 0.516\n",
            "*********Train confusion matrix*********\n",
            "[[ 5983   377]\n",
            " [ 3223 33425]]\n"
          ],
          "name": "stdout"
        },
        {
          "output_type": "execute_result",
          "data": {
            "text/plain": [
              "<matplotlib.axes._subplots.AxesSubplot at 0x7fb9d5280e80>"
            ]
          },
          "metadata": {
            "tags": []
          },
          "execution_count": 75
        },
        {
          "output_type": "display_data",
          "data": {
            "image/png": "[encoded data removed]",
            "text/plain": [
              "<Figure size 432x288 with 2 Axes>"
            ]
          },
          "metadata": {
            "tags": []
          }
        }
      ]
    },
    {
      "cell_type": "code",
      "metadata": {
        "id": "DMo2TlZ7MgMo",
        "colab_type": "code",
        "colab": {
          "base_uri": "https://localhost:8080/",
          "height": 333
        },
        "outputId": "82fc6223-7cfd-4025-91b0-33798da99c7a"
      },
      "source": [
        "print(\"*********Test confusion matrix*********\")\n",
        "print(confusion_matrix(y_test, predict_with_best_t(y_pred_test_l1, best_t_tfidf_l1)))\n",
        "cm_test = confusion_matrix(y_test, predict_with_best_t(y_pred_test_l1, best_t_tfidf_l1))\n",
        "\n",
        "plt.figure()\n",
        "ax2 = plt.subplot()\n",
        "sns.heatmap(cm_test,annot=True,ax=ax2,fmt='g')"
      ],
      "execution_count": 76,
      "outputs": [
        {
          "output_type": "stream",
          "text": [
            "*********Test confusion matrix*********\n",
            "[[ 4037   519]\n",
            " [ 2283 19493]]\n"
          ],
          "name": "stdout"
        },
        {
          "output_type": "execute_result",
          "data": {
            "text/plain": [
              "<matplotlib.axes._subplots.AxesSubplot at 0x7fb9d5280ba8>"
            ]
          },
          "metadata": {
            "tags": []
          },
          "execution_count": 76
        },
        {
          "output_type": "display_data",
          "data": {
            "image/png": "[encoded data removed]",
            "text/plain": [
              "<Figure size 432x288 with 2 Axes>"
            ]
          },
          "metadata": {
            "tags": []
          }
        }
      ]
    },
    {
      "cell_type": "code",
      "metadata": {
        "id": "TjFP49vpMgMq",
        "colab_type": "code",
        "colab": {
          "base_uri": "https://localhost:8080/",
          "height": 51
        },
        "outputId": "5441477a-1677-4000-cefa-0ded62881c53"
      },
      "source": [
        "##Calculating sparsity on weight vector obtained using L1 regularization on TFIDF\n",
        "#using already trained model\n",
        "\n",
        "coef_tfidf_l1 = model_roc_l1.coef_.ravel()\n",
        "sparsity_tfidf_l1 = np.mean(coef_tfidf_l1 == 0) * 100\n",
        "\n",
        "print('sparsity_tfidf_l1 ',sparsity_tfidf_l1)\n",
        "print('Number of non zero entries which indicates sparsity ',np.count_nonzero(model_roc_l1.coef_))"
      ],
      "execution_count": 77,
      "outputs": [
        {
          "output_type": "stream",
          "text": [
            "sparsity_tfidf_l1  93.2267316229914\n",
            "Number of non zero entries which indicates sparsity  1724\n"
          ],
          "name": "stdout"
        }
      ]
    },
    {
      "cell_type": "markdown",
      "metadata": {
        "colab_type": "text",
        "id": "NdFShHQJLPpV"
      },
      "source": [
        "### [5.2.2] Applying Logistic Regression with L2 regularization on TFIDF,<font color='red'> SET 2</font>"
      ]
    },
    {
      "cell_type": "code",
      "metadata": {
        "colab_type": "code",
        "id": "Jyhq3JDzLPpW",
        "colab": {
          "base_uri": "https://localhost:8080/",
          "height": 347
        },
        "outputId": "ec847e09-0103-48cb-bc0f-c42990a36715"
      },
      "source": [
        "# Please write all the code with proper documentation\n",
        "\n",
        "hyperparameters = {'C':[10**-4,10**-2,10**0,10**2,10**4]}\n",
        "model = LogisticRegression(penalty='l2',class_weight='balanced')\n",
        "\n",
        "clf_tfidf_l2 = RandomizedSearchCV(model,param_distributions=hyperparameters,scoring='roc_auc',cv=10,random_state=100,return_train_score=True)\n",
        "clf_tfidf_l2.fit(final_tf_idf,y_train2)\n",
        "\n",
        "print('AUC score for Logistic Regression Model with TFIDF features and l2 regularization ',clf_tfidf_l2.cv_results_['mean_train_score'])\n",
        "\n",
        "AUC_tfidf_train_l2 = clf_tfidf_l2.cv_results_['mean_train_score']\n",
        "best_auc_score_tfidf_l2 = clf_tfidf_l2.best_score_\n",
        "optimal_C_tfidf_l2 = clf_tfidf_l2.best_params_['C']\n",
        "\n",
        "print('best_auc_score_tfidf_l2 ',best_auc_score_tfidf_l2)\n",
        "print('optimal_C_tfidf_l2 ',optimal_C_tfidf_l2)\n",
        "\n",
        "#finding auc scores for our CV data for validation\n",
        "AUC_tfidf_CV_l2 = clf_tfidf_l2.cv_results_['mean_test_score']\n",
        "\n",
        "\n",
        "#plotting ROC curve for train and CV data\n",
        "plt.plot(np.log10(hyperparameters['C']),AUC_tfidf_train_l2,label='Train AUC values')\n",
        "plt.plot(np.log10(hyperparameters['C']),AUC_tfidf_CV_l2,label='CV AUC values')\n",
        "plt.legend()\n",
        "plt.grid()\n",
        "plt.xlabel('Hyperparameter - C')\n",
        "plt.ylabel('AUC values')\n",
        "\n",
        "#Observation : Our model is performing well when tested with CV data,so we can go ahead with considering best value of C as optimal_C_bow_l1  \n",
        "\n"
      ],
      "execution_count": 78,
      "outputs": [
        {
          "output_type": "stream",
          "text": [
            "AUC score for Logistic Regression Model with TFIDF features and l2 regularization  [0.91266987 0.92419852 0.98815968 0.99995932 0.99999717]\n",
            "best_auc_score_tfidf_l2  0.9558950377524006\n",
            "optimal_C_tfidf_l2  1\n"
          ],
          "name": "stdout"
        },
        {
          "output_type": "execute_result",
          "data": {
            "text/plain": [
              "Text(0, 0.5, 'AUC values')"
            ]
          },
          "metadata": {
            "tags": []
          },
          "execution_count": 78
        },
        {
          "output_type": "display_data",
          "data": {
            "image/png": "[encoded data removed]",
            "text/plain": [
              "<Figure size 432x288 with 1 Axes>"
            ]
          },
          "metadata": {
            "tags": []
          }
        }
      ]
    },
    {
      "cell_type": "code",
      "metadata": {
        "id": "Br3ginOSMgMu",
        "colab_type": "code",
        "colab": {
          "base_uri": "https://localhost:8080/",
          "height": 295
        },
        "outputId": "4becd43e-3190-44f7-db1f-2d83db47e5f7"
      },
      "source": [
        "#Plotting ROC curve as FPR vs TPR\n",
        "\n",
        "model_roc_l2 = LogisticRegression(penalty='l2',C=optimal_C_tfidf_l2,class_weight='balanced')\n",
        "model_roc_l2 = model_roc_l2.fit(final_tf_idf,y_train2)\n",
        "\n",
        "y_pred_train_l2 = model_roc_l2.predict_proba(final_tf_idf)[:,1]\n",
        "fpr1,tpr1,t1 = metrics.roc_curve(y_train2,y_pred_train_l2)\n",
        "\n",
        "y_pred_test_l2 = model_roc_l2.predict_proba(final_tf_idfTEST)[:,1]\n",
        "fpr2,tpr2,t2 = metrics.roc_curve(y_test,y_pred_test_l2)\n",
        "\n",
        "plt.plot(fpr1,tpr1,label='Train ROC Curve=' +str(metrics.auc(fpr1,tpr1)))\n",
        "plt.plot(fpr2,tpr2,label='Test ROC Curve=' +str(metrics.auc(fpr2,tpr2)))\n",
        "plt.legend()\n",
        "plt.grid()\n",
        "plt.xlabel('False Positive Rate')\n",
        "plt.ylabel('True Positive Rate')\n",
        "plt.title('ROC curve of train and test data')\n",
        "plt.show()\n"
      ],
      "execution_count": 79,
      "outputs": [
        {
          "output_type": "display_data",
          "data": {
            "image/png": "[encoded data removed]",
            "text/plain": [
              "<Figure size 432x288 with 1 Axes>"
            ]
          },
          "metadata": {
            "tags": []
          }
        }
      ]
    },
    {
      "cell_type": "code",
      "metadata": {
        "id": "v7_-AwFQMgMv",
        "colab_type": "code",
        "colab": {
          "base_uri": "https://localhost:8080/",
          "height": 350
        },
        "outputId": "b6b71d67-ed68-47e2-e420-39944f36ddfe"
      },
      "source": [
        "best_t_tfidf_l2 = find_best_threshold(t1,fpr1,tpr1)\n",
        "print(\"*********Train confusion matrix*********\")\n",
        "print(confusion_matrix(y_train2, predict_with_best_t(y_pred_train_l2, best_t_tfidf_l2)))\n",
        "cm_tr = confusion_matrix(y_train2, predict_with_best_t(y_pred_train_l2, best_t_tfidf_l2))\n",
        "\n",
        "plt.figure()\n",
        "ax2 = plt.subplot()\n",
        "sns.heatmap(cm_tr,annot=True,ax=ax2,fmt='g')\n"
      ],
      "execution_count": 80,
      "outputs": [
        {
          "output_type": "stream",
          "text": [
            "the maximum value of tpr*(1-fpr) 0.9043416099310935 for threshold 0.5\n",
            "*********Train confusion matrix*********\n",
            "[[ 6150   210]\n",
            " [ 2374 34274]]\n"
          ],
          "name": "stdout"
        },
        {
          "output_type": "execute_result",
          "data": {
            "text/plain": [
              "<matplotlib.axes._subplots.AxesSubplot at 0x7fb9d5293f98>"
            ]
          },
          "metadata": {
            "tags": []
          },
          "execution_count": 80
        },
        {
          "output_type": "display_data",
          "data": {
            "image/png": "[encoded data removed]",
            "text/plain": [
              "<Figure size 432x288 with 2 Axes>"
            ]
          },
          "metadata": {
            "tags": []
          }
        }
      ]
    },
    {
      "cell_type": "code",
      "metadata": {
        "id": "CztxhXcoMgMx",
        "colab_type": "code",
        "colab": {
          "base_uri": "https://localhost:8080/",
          "height": 333
        },
        "outputId": "7cf1e317-139a-4010-e689-327fece49138"
      },
      "source": [
        "print(\"*********Test confusion matrix*********\")\n",
        "print(confusion_matrix(y_test, predict_with_best_t(y_pred_test_l2, best_t_tfidf_l2)))\n",
        "cm_test = confusion_matrix(y_test, predict_with_best_t(y_pred_test_l2, best_t_tfidf_l2))\n",
        "\n",
        "plt.figure()\n",
        "ax2 = plt.subplot()\n",
        "sns.heatmap(cm_test,annot=True,ax=ax2,fmt='g')"
      ],
      "execution_count": 81,
      "outputs": [
        {
          "output_type": "stream",
          "text": [
            "*********Test confusion matrix*********\n",
            "[[ 3975   581]\n",
            " [ 1902 19874]]\n"
          ],
          "name": "stdout"
        },
        {
          "output_type": "execute_result",
          "data": {
            "text/plain": [
              "<matplotlib.axes._subplots.AxesSubplot at 0x7fb9d2784240>"
            ]
          },
          "metadata": {
            "tags": []
          },
          "execution_count": 81
        },
        {
          "output_type": "display_data",
          "data": {
            "image/png": "[encoded data removed]",
            "text/plain": [
              "<Figure size 432x288 with 2 Axes>"
            ]
          },
          "metadata": {
            "tags": []
          }
        }
      ]
    },
    {
      "cell_type": "code",
      "metadata": {
        "id": "nJOG8F3sMgM1",
        "colab_type": "code",
        "colab": {
          "base_uri": "https://localhost:8080/",
          "height": 51
        },
        "outputId": "b1753f27-5805-4038-b158-dd75acc4e43a"
      },
      "source": [
        "##Calculating sparsity on weight vector obtained using L1 regularization on TFIDF\n",
        "#using already trained model\n",
        "\n",
        "coef_tfidf_l2 = model_roc_l2.coef_.ravel()\n",
        "sparsity_tfidf_l2 = np.mean(coef_tfidf_l2 == 0) * 100\n",
        "\n",
        "print('sparsity_tfidf_l2 ',sparsity_tfidf_l2)\n",
        "print('Number of non zero entries which indicates sparsity ',np.count_nonzero(model_roc_l2.coef_))"
      ],
      "execution_count": 82,
      "outputs": [
        {
          "output_type": "stream",
          "text": [
            "sparsity_tfidf_l2  0.0\n",
            "Number of non zero entries which indicates sparsity  25453\n"
          ],
          "name": "stdout"
        }
      ]
    },
    {
      "cell_type": "markdown",
      "metadata": {
        "colab_type": "text",
        "id": "xeeJ8eVvLPpX"
      },
      "source": [
        "### [5.2.3] Feature Importance on TFIDF,<font color='red'> SET 2</font>"
      ]
    },
    {
      "cell_type": "markdown",
      "metadata": {
        "colab_type": "text",
        "id": "Cj9XEmqQLPpY"
      },
      "source": [
        "#### [5.2.3.1] Top 10 important features of positive class from<font color='red'> SET 2</font>"
      ]
    },
    {
      "cell_type": "code",
      "metadata": {
        "colab_type": "code",
        "id": "RG10txygLPpb",
        "colab": {
          "base_uri": "https://localhost:8080/",
          "height": 187
        },
        "outputId": "6c692b5c-4418-43a6-afec-1d723fa5b110"
      },
      "source": [
        "coef_tf = model_roc_l2.coef_\n",
        "i_pos2 = np.argsort(coef_tf)[:,::-1]\n",
        "\n",
        "for i in i_pos2[0][0:10]:\n",
        "    print(features_tf_idf[i])"
      ],
      "execution_count": 83,
      "outputs": [
        {
          "output_type": "stream",
          "text": [
            "great\n",
            "delicious\n",
            "best\n",
            "good\n",
            "perfect\n",
            "love\n",
            "loves\n",
            "excellent\n",
            "wonderful\n",
            "nice\n"
          ],
          "name": "stdout"
        }
      ]
    },
    {
      "cell_type": "markdown",
      "metadata": {
        "colab_type": "text",
        "id": "PowEfns4LPpg"
      },
      "source": [
        "#### [5.2.3.2] Top 10 important features of negative class from<font color='red'> SET 2</font>"
      ]
    },
    {
      "cell_type": "code",
      "metadata": {
        "colab_type": "code",
        "id": "G7jrma95LPpg",
        "colab": {
          "base_uri": "https://localhost:8080/",
          "height": 187
        },
        "outputId": "ff97397a-8f58-4cf7-952a-c092cd31b5f8"
      },
      "source": [
        "# Please write all the code with proper documentation\n",
        "i_neg2 = np.argsort(coef_tf)\n",
        "\n",
        "for i in i_neg2[0][0:10]:\n",
        "    print(features_tf_idf[i])"
      ],
      "execution_count": 84,
      "outputs": [
        {
          "output_type": "stream",
          "text": [
            "not\n",
            "disappointed\n",
            "worst\n",
            "terrible\n",
            "awful\n",
            "not worth\n",
            "disappointing\n",
            "unfortunately\n",
            "not good\n",
            "horrible\n"
          ],
          "name": "stdout"
        }
      ]
    },
    {
      "cell_type": "markdown",
      "metadata": {
        "colab_type": "text",
        "id": "sqYadGOgLPpi"
      },
      "source": [
        "## [5.3] Logistic Regression on AVG W2V,<font color='red'> SET 3</font>"
      ]
    },
    {
      "cell_type": "markdown",
      "metadata": {
        "colab_type": "text",
        "id": "kByBCEA1LPpj"
      },
      "source": [
        "### [5.3.1] Applying Logistic Regression with L1 regularization on AVG W2V<font color='red'> SET 3</font>"
      ]
    },
    {
      "cell_type": "code",
      "metadata": {
        "colab_type": "code",
        "id": "yCQ_4iJkLPpj",
        "colab": {
          "base_uri": "https://localhost:8080/",
          "height": 347
        },
        "outputId": "ac328628-3744-420e-88f8-7d2f31bc6900"
      },
      "source": [
        "# Please write all the code with proper documentation\n",
        "\n",
        "\n",
        "hyperparameters = {'C':[10**-4,10**-2,10**0,10**2,10**4]}\n",
        "model = LogisticRegression(penalty='l1',solver='liblinear',class_weight='balanced')\n",
        "\n",
        "clf_avgw2v_l1 = RandomizedSearchCV(model,param_distributions=hyperparameters,scoring='roc_auc',cv=5,random_state=100,return_train_score=True)\n",
        "clf_avgw2v_l1.fit(sent_vectors_train,y_train2)\n",
        "\n",
        "print('AUC score for Logistic Regression Model with Avg W2V features and l1 regularization ',clf_avgw2v_l1.cv_results_['mean_train_score'])\n",
        "\n",
        "AUC_avgw2v_train_l1 = clf_avgw2v_l1.cv_results_['mean_train_score']\n",
        "best_auc_score_avgw2v_l1 = clf_avgw2v_l1.best_score_\n",
        "optimal_C_avgw2v_l1 = clf_avgw2v_l1.best_params_['C']\n",
        "\n",
        "print('best_auc_score_avgw2v_l1 ',best_auc_score_avgw2v_l1)\n",
        "print('optimal_C_avgw2v_l1 ',optimal_C_avgw2v_l1)\n",
        "\n",
        "#finding auc scores for our CV data for validation\n",
        "AUC_avgw2v_CV_l1 = clf_avgw2v_l1.cv_results_['mean_test_score']\n",
        "    \n",
        "\n",
        "#plotting ROC curve for train and CV data\n",
        "plt.plot(np.log10(hyperparameters['C']),AUC_avgw2v_train_l1,label='Train AUC values')\n",
        "plt.plot(np.log10(hyperparameters['C']),AUC_avgw2v_CV_l1,label='CV AUC values')\n",
        "plt.legend()\n",
        "plt.xlabel('Hyperparameter - C')\n",
        "plt.ylabel('AUC values')\n",
        "\n",
        "#Observation : Our model is performing well when tested with CV data,so we can go ahead with considering best value of C as optimal_C_bow_l1  "
      ],
      "execution_count": 85,
      "outputs": [
        {
          "output_type": "stream",
          "text": [
            "AUC score for Logistic Regression Model with Avg W2V features and l1 regularization  [0.5        0.89319112 0.89689027 0.89688846 0.89688804]\n",
            "best_auc_score_avgw2v_l1  0.8940469734684754\n",
            "optimal_C_avgw2v_l1  1\n"
          ],
          "name": "stdout"
        },
        {
          "output_type": "execute_result",
          "data": {
            "text/plain": [
              "Text(0, 0.5, 'AUC values')"
            ]
          },
          "metadata": {
            "tags": []
          },
          "execution_count": 85
        },
        {
          "output_type": "display_data",
          "data": {
            "image/png": "[encoded data removed]",
            "text/plain": [
              "<Figure size 432x288 with 1 Axes>"
            ]
          },
          "metadata": {
            "tags": []
          }
        }
      ]
    },
    {
      "cell_type": "code",
      "metadata": {
        "id": "rAkQNF5dMgNC",
        "colab_type": "code",
        "colab": {
          "base_uri": "https://localhost:8080/",
          "height": 295
        },
        "outputId": "1f4faf6f-e055-4354-fbd5-a8b87616fb8e"
      },
      "source": [
        "#Plotting ROC curve as FPR vs TPR\n",
        "\n",
        "model_roc_l1 = LogisticRegression(penalty='l1',solver='liblinear',C=optimal_C_avgw2v_l1,class_weight='balanced')\n",
        "model_roc_l1 = model_roc_l1.fit(sent_vectors_train,y_train2)\n",
        "\n",
        "y_pred_train_l1 = model_roc_l1.predict_proba(sent_vectors_train)[:,1]\n",
        "fpr1,tpr1,t1 = metrics.roc_curve(y_train2,y_pred_train_l1)\n",
        "\n",
        "y_pred_test_l1 = model_roc_l1.predict_proba(sent_vectors_test)[:,1]\n",
        "fpr2,tpr2,t2 = metrics.roc_curve(y_test,y_pred_test_l1)\n",
        "\n",
        "plt.plot(fpr1,tpr1,label='Train ROC Curve=' +str(metrics.auc(fpr1,tpr1)))\n",
        "plt.plot(fpr2,tpr2,label='Test ROC Curve=' +str(metrics.auc(fpr2,tpr2)))\n",
        "plt.legend()\n",
        "plt.grid()\n",
        "plt.xlabel('False Positive Rate')\n",
        "plt.ylabel('True Positive Rate')\n",
        "plt.title('ROC curve of train and test data')\n",
        "plt.show()"
      ],
      "execution_count": 86,
      "outputs": [
        {
          "output_type": "display_data",
          "data": {
            "image/png": "[encoded data removed]",
            "text/plain": [
              "<Figure size 432x288 with 1 Axes>"
            ]
          },
          "metadata": {
            "tags": []
          }
        }
      ]
    },
    {
      "cell_type": "code",
      "metadata": {
        "id": "Ch-oLB4aMgNE",
        "colab_type": "code",
        "colab": {
          "base_uri": "https://localhost:8080/",
          "height": 350
        },
        "outputId": "553cccc3-5e08-4cc0-b770-d009a20042f2"
      },
      "source": [
        "best_t_avgw2v_l1 = find_best_threshold(t1,fpr1,tpr1)\n",
        "print(\"*********Train confusion matrix*********\")\n",
        "print(confusion_matrix(y_train2, predict_with_best_t(y_pred_train_l1, best_t_avgw2v_l1)))\n",
        "cm_tr = confusion_matrix(y_train2, predict_with_best_t(y_pred_train_l1, best_t_avgw2v_l1))\n",
        "\n",
        "plt.figure()\n",
        "ax2 = plt.subplot()\n",
        "sns.heatmap(cm_tr,annot=True,ax=ax2,fmt='g')"
      ],
      "execution_count": 87,
      "outputs": [
        {
          "output_type": "stream",
          "text": [
            "the maximum value of tpr*(1-fpr) 0.6712364888334232 for threshold 0.506\n",
            "*********Train confusion matrix*********\n",
            "[[ 5369   991]\n",
            " [ 7508 29140]]\n"
          ],
          "name": "stdout"
        },
        {
          "output_type": "execute_result",
          "data": {
            "text/plain": [
              "<matplotlib.axes._subplots.AxesSubplot at 0x7fb9d26be4e0>"
            ]
          },
          "metadata": {
            "tags": []
          },
          "execution_count": 87
        },
        {
          "output_type": "display_data",
          "data": {
            "image/png": "[encoded data removed]",
            "text/plain": [
              "<Figure size 432x288 with 2 Axes>"
            ]
          },
          "metadata": {
            "tags": []
          }
        }
      ]
    },
    {
      "cell_type": "code",
      "metadata": {
        "id": "OmOwIPMPMgNF",
        "colab_type": "code",
        "colab": {
          "base_uri": "https://localhost:8080/",
          "height": 333
        },
        "outputId": "700c554f-9b20-4bc9-841e-137a15939e21"
      },
      "source": [
        "print(\"*********Test confusion matrix*********\")\n",
        "print(confusion_matrix(y_test, predict_with_best_t(y_pred_test_l1, best_t_avgw2v_l1)))\n",
        "cm_test = confusion_matrix(y_test, predict_with_best_t(y_pred_test_l1, best_t_avgw2v_l1))\n",
        "\n",
        "plt.figure()\n",
        "ax2 = plt.subplot()\n",
        "sns.heatmap(cm_test,annot=True,ax=ax2,fmt='g')"
      ],
      "execution_count": 88,
      "outputs": [
        {
          "output_type": "stream",
          "text": [
            "*********Test confusion matrix*********\n",
            "[[ 3902   654]\n",
            " [ 4856 16920]]\n"
          ],
          "name": "stdout"
        },
        {
          "output_type": "execute_result",
          "data": {
            "text/plain": [
              "<matplotlib.axes._subplots.AxesSubplot at 0x7fb9d26be080>"
            ]
          },
          "metadata": {
            "tags": []
          },
          "execution_count": 88
        },
        {
          "output_type": "display_data",
          "data": {
            "image/png": "[encoded data removed]",
            "text/plain": [
              "<Figure size 432x288 with 2 Axes>"
            ]
          },
          "metadata": {
            "tags": []
          }
        }
      ]
    },
    {
      "cell_type": "code",
      "metadata": {
        "id": "hQkwYmY_MgNI",
        "colab_type": "code",
        "colab": {
          "base_uri": "https://localhost:8080/",
          "height": 51
        },
        "outputId": "53d05402-075f-4a7e-c306-8e64623fdf16"
      },
      "source": [
        "##Calculating sparsity on weight vector obtained using L1 regularization on AVG W2V\n",
        "#using already trained model\n",
        "\n",
        "coef_avgw2v_l1 = model_roc_l1.coef_.ravel()\n",
        "sparsity_avgw2v_l1 = np.mean(coef_avgw2v_l1 == 0) * 100\n",
        "\n",
        "print('sparsity_avgw2v_l1 ',sparsity_avgw2v_l1)\n",
        "print('Number of non zero entries which indicates sparsity ',np.count_nonzero(model_roc_l1.coef_))"
      ],
      "execution_count": 89,
      "outputs": [
        {
          "output_type": "stream",
          "text": [
            "sparsity_avgw2v_l1  0.0\n",
            "Number of non zero entries which indicates sparsity  50\n"
          ],
          "name": "stdout"
        }
      ]
    },
    {
      "cell_type": "markdown",
      "metadata": {
        "colab_type": "text",
        "id": "O_8Gu2SfLPpn"
      },
      "source": [
        "### [5.3.2] Applying Logistic Regression with L2 regularization on AVG W2V,<font color='red'> SET 3</font>"
      ]
    },
    {
      "cell_type": "code",
      "metadata": {
        "colab_type": "code",
        "id": "Zy3s4jk1LPpn",
        "colab": {
          "base_uri": "https://localhost:8080/",
          "height": 347
        },
        "outputId": "ae74a428-69a9-4ff8-badd-444b80235804"
      },
      "source": [
        "# Please write all the code with proper documentation\n",
        "\n",
        "hyperparameters = {'C':[10**-4,10**-2,10**0,10**2,10**4]}\n",
        "model = LogisticRegression(penalty='l2',class_weight='balanced')\n",
        "\n",
        "clf_avgw2v_l2 = RandomizedSearchCV(model,param_distributions=hyperparameters,scoring='roc_auc',cv=10,random_state=100,return_train_score=True)\n",
        "clf_avgw2v_l2.fit(sent_vectors_train,y_train2)\n",
        "\n",
        "print('AUC score for Logistic Regression Model with Avg W2V features and l2 regularization ',clf_avgw2v_l2.cv_results_['mean_train_score'])\n",
        "\n",
        "AUC_avgw2v_train_l2 = clf_avgw2v_l2.cv_results_['mean_train_score']\n",
        "best_auc_score_avgw2v_l2 = clf_avgw2v_l2.best_score_\n",
        "optimal_C_avgw2v_l2 = clf_avgw2v_l2.best_params_['C']\n",
        "\n",
        "print('best_auc_score_avgw2v_l1 ',best_auc_score_avgw2v_l2)\n",
        "print('optimal_C_avgw2v_l1 ',optimal_C_avgw2v_l2)\n",
        "\n",
        "#finding auc scores for our CV data for validation\n",
        "AUC_avgw2v_CV_l2 = clf_avgw2v_l2.cv_results_['mean_test_score']\n",
        "    \n",
        "\n",
        "#plotting ROC curve for train and CV data\n",
        "plt.plot(np.log10(hyperparameters['C']),AUC_avgw2v_train_l2,label='Train AUC values')\n",
        "plt.plot(np.log10(hyperparameters['C']),AUC_avgw2v_CV_l2,label='CV AUC values')\n",
        "plt.legend()\n",
        "plt.xlabel('Hyperparameter - C')\n",
        "plt.ylabel('AUC values')\n",
        "\n",
        "#Observation : Our model is performing well when tested with CV data,so we can go ahead with considering best value of C as optimal_C_bow_l1  "
      ],
      "execution_count": 90,
      "outputs": [
        {
          "output_type": "stream",
          "text": [
            "AUC score for Logistic Regression Model with Avg W2V features and l2 regularization  [0.88222018 0.89574177 0.89670529 0.89670462 0.89670494]\n",
            "best_auc_score_avgw2v_l1  0.8944570785532276\n",
            "optimal_C_avgw2v_l1  1\n"
          ],
          "name": "stdout"
        },
        {
          "output_type": "execute_result",
          "data": {
            "text/plain": [
              "Text(0, 0.5, 'AUC values')"
            ]
          },
          "metadata": {
            "tags": []
          },
          "execution_count": 90
        },
        {
          "output_type": "display_data",
          "data": {
            "image/png": "[encoded data removed]",
            "text/plain": [
              "<Figure size 432x288 with 1 Axes>"
            ]
          },
          "metadata": {
            "tags": []
          }
        }
      ]
    },
    {
      "cell_type": "code",
      "metadata": {
        "id": "r3oOv4azMgNL",
        "colab_type": "code",
        "colab": {
          "base_uri": "https://localhost:8080/",
          "height": 295
        },
        "outputId": "ebdc06d4-d9f2-4605-b4f7-c97f61a2cefd"
      },
      "source": [
        "#Plotting ROC curve as FPR vs TPR\n",
        "\n",
        "model_roc_l2 = LogisticRegression(penalty='l2',C=optimal_C_avgw2v_l2,class_weight='balanced')\n",
        "model_roc_l2 = model_roc_l2.fit(sent_vectors_train,y_train2)\n",
        "\n",
        "y_pred_train_l2 = model_roc_l2.predict_proba(sent_vectors_train)[:,1]\n",
        "fpr1,tpr1,t1 = metrics.roc_curve(y_train2,y_pred_train_l2)\n",
        "\n",
        "y_pred_test_l2 = model_roc_l2.predict_proba(sent_vectors_test)[:,1]\n",
        "fpr2,tpr2,t = metrics.roc_curve(y_test,y_pred_test_l2)\n",
        "\n",
        "plt.plot(fpr1,tpr1,label='Train ROC Curve=' +str(metrics.auc(fpr1,tpr1)))\n",
        "plt.plot(fpr2,tpr2,label='Test ROC Curve=' +str(metrics.auc(fpr2,tpr2)))\n",
        "plt.legend()\n",
        "plt.grid()\n",
        "plt.xlabel('False Positive Rate')\n",
        "plt.ylabel('True Positive Rate')\n",
        "plt.title('ROC curve of train and test data')\n",
        "plt.show()\n",
        "\n"
      ],
      "execution_count": 91,
      "outputs": [
        {
          "output_type": "display_data",
          "data": {
            "image/png": "[encoded data removed]",
            "text/plain": [
              "<Figure size 432x288 with 1 Axes>"
            ]
          },
          "metadata": {
            "tags": []
          }
        }
      ]
    },
    {
      "cell_type": "code",
      "metadata": {
        "id": "PqM6F2ZgMgNN",
        "colab_type": "code",
        "colab": {
          "base_uri": "https://localhost:8080/",
          "height": 350
        },
        "outputId": "154c4c6e-c414-4b97-f85e-129eeff3a5d7"
      },
      "source": [
        "best_t_avgw2v_l2 = find_best_threshold(t1,fpr1,tpr1)\n",
        "print(\"*********Train confusion matrix*********\")\n",
        "print(confusion_matrix(y_train2, predict_with_best_t(y_pred_train_l2, best_t_avgw2v_l2)))\n",
        "cm_tr = confusion_matrix(y_train2, predict_with_best_t(y_pred_train_l2, best_t_avgw2v_l2))\n",
        "\n",
        "plt.figure()\n",
        "ax2 = plt.subplot()\n",
        "sns.heatmap(cm_tr,annot=True,ax=ax2,fmt='g')"
      ],
      "execution_count": 92,
      "outputs": [
        {
          "output_type": "stream",
          "text": [
            "the maximum value of tpr*(1-fpr) 0.6712364888334232 for threshold 0.506\n",
            "*********Train confusion matrix*********\n",
            "[[ 5369   991]\n",
            " [ 7508 29140]]\n"
          ],
          "name": "stdout"
        },
        {
          "output_type": "execute_result",
          "data": {
            "text/plain": [
              "<matplotlib.axes._subplots.AxesSubplot at 0x7fb9d260ccf8>"
            ]
          },
          "metadata": {
            "tags": []
          },
          "execution_count": 92
        },
        {
          "output_type": "display_data",
          "data": {
            "image/png": "[encoded data removed]",
            "text/plain": [
              "<Figure size 432x288 with 2 Axes>"
            ]
          },
          "metadata": {
            "tags": []
          }
        }
      ]
    },
    {
      "cell_type": "code",
      "metadata": {
        "id": "V7XM-ePKMgNO",
        "colab_type": "code",
        "colab": {
          "base_uri": "https://localhost:8080/",
          "height": 333
        },
        "outputId": "88cc1760-17cd-461f-bef6-ee7730f011e8"
      },
      "source": [
        "\n",
        "print(\"*********Test confusion matrix*********\")\n",
        "print(confusion_matrix(y_test, predict_with_best_t(y_pred_test_l2, best_t_avgw2v_l2)))\n",
        "cm_test = confusion_matrix(y_test, predict_with_best_t(y_pred_test_l2, best_t_avgw2v_l2))\n",
        "\n",
        "plt.figure()\n",
        "ax2 = plt.subplot()\n",
        "sns.heatmap(cm_test,annot=True,ax=ax2,fmt='g')"
      ],
      "execution_count": 93,
      "outputs": [
        {
          "output_type": "stream",
          "text": [
            "*********Test confusion matrix*********\n",
            "[[ 3902   654]\n",
            " [ 4859 16917]]\n"
          ],
          "name": "stdout"
        },
        {
          "output_type": "execute_result",
          "data": {
            "text/plain": [
              "<matplotlib.axes._subplots.AxesSubplot at 0x7fb9d260c940>"
            ]
          },
          "metadata": {
            "tags": []
          },
          "execution_count": 93
        },
        {
          "output_type": "display_data",
          "data": {
            "image/png": "[encoded data removed]",
            "text/plain": [
              "<Figure size 432x288 with 2 Axes>"
            ]
          },
          "metadata": {
            "tags": []
          }
        }
      ]
    },
    {
      "cell_type": "code",
      "metadata": {
        "id": "8OhmXq75MgNP",
        "colab_type": "code",
        "colab": {
          "base_uri": "https://localhost:8080/",
          "height": 51
        },
        "outputId": "4d890d9f-a159-49ae-e26d-ce969ffd8511"
      },
      "source": [
        "##Calculating sparsity on weight vector obtained using L1 regularization on AVG W2V\n",
        "#using already trained model\n",
        "\n",
        "coef_avgw2v_l2 = model_roc_l2.coef_.ravel()\n",
        "sparsity_avgw2v_l2 = np.mean(coef_avgw2v_l2 == 0) * 100\n",
        "\n",
        "print('sparsity_avgw2v_l2 ',sparsity_avgw2v_l2)\n",
        "print('Number of non zero entries which indicates sparsity ',np.count_nonzero(model_roc_l2.coef_))"
      ],
      "execution_count": 94,
      "outputs": [
        {
          "output_type": "stream",
          "text": [
            "sparsity_avgw2v_l2  0.0\n",
            "Number of non zero entries which indicates sparsity  50\n"
          ],
          "name": "stdout"
        }
      ]
    },
    {
      "cell_type": "markdown",
      "metadata": {
        "colab_type": "text",
        "id": "pdXTwVIPLPpp"
      },
      "source": [
        "## [5.4] Logistic Regression on TFIDF W2V,<font color='red'> SET 4</font>"
      ]
    },
    {
      "cell_type": "markdown",
      "metadata": {
        "colab_type": "text",
        "id": "WP9NjwNSLPpp"
      },
      "source": [
        "### [5.4.1] Applying Logistic Regression with L1 regularization on TFIDF W2V,<font color='red'> SET 4</font>"
      ]
    },
    {
      "cell_type": "code",
      "metadata": {
        "colab_type": "code",
        "id": "207gYymwLPpq",
        "colab": {
          "base_uri": "https://localhost:8080/",
          "height": 347
        },
        "outputId": "61d9a6d0-2c4a-4c92-ac7b-3dc3e261d0e9"
      },
      "source": [
        "# Please write all the code with proper documentation\n",
        "\n",
        "hyperparameters = {'C':[10**-4,10**-2,10**0,10**2,10**4]}\n",
        "model = LogisticRegression(penalty='l1',solver='liblinear',class_weight='balanced')\n",
        "\n",
        "clf_tfidfw2v_l1 = RandomizedSearchCV(model,param_distributions=hyperparameters,scoring='roc_auc',cv=10,random_state=100,return_train_score=True)\n",
        "clf_tfidfw2v_l1.fit(tfidf_sent_vectors_train,y_train2)\n",
        "\n",
        "print('AUC score for Logistic Regression Model with TFIDF W2V features and l1 regularization ',clf_tfidfw2v_l1.cv_results_['mean_train_score'])\n",
        "\n",
        "AUC_tfidfw2v_train_l1 = clf_tfidfw2v_l1.cv_results_['mean_train_score']\n",
        "best_auc_score_tfidfw2v_l1 = clf_tfidfw2v_l1.best_score_\n",
        "optimal_C_tfidfw2v_l1 = clf_tfidfw2v_l1.best_params_['C']\n",
        "\n",
        "print('best_auc_score_tfidfw2v_l1 ',best_auc_score_tfidfw2v_l1)\n",
        "print('optimal_C_tfidfw2v_l1 ',optimal_C_tfidfw2v_l1)\n",
        "\n",
        "#finding auc scores for our CV data for validation\n",
        "AUC_tfidfw2v_CV_l1 = clf_tfidfw2v_l1.cv_results_['mean_test_score']\n",
        "    \n",
        "\n",
        "#plotting ROC curve for train and CV data\n",
        "plt.plot(np.log10(hyperparameters['C']),AUC_tfidfw2v_train_l1,label='Train AUC values')\n",
        "plt.plot(np.log10(hyperparameters['C']),AUC_tfidfw2v_CV_l1,label='CV AUC values')\n",
        "plt.legend()\n",
        "plt.xlabel('Hyperparameter - C')\n",
        "plt.ylabel('AUC values')\n",
        "\n",
        "#Observation : Our model is performing well when tested with CV data,so we can go ahead with considering best value of C as optimal_C_bow_l1  "
      ],
      "execution_count": 95,
      "outputs": [
        {
          "output_type": "stream",
          "text": [
            "AUC score for Logistic Regression Model with TFIDF W2V features and l1 regularization  [0.5        0.86914834 0.87353238 0.87353215 0.87353196]\n",
            "best_auc_score_tfidfw2v_l1  0.8707662115672227\n",
            "optimal_C_tfidfw2v_l1  1\n"
          ],
          "name": "stdout"
        },
        {
          "output_type": "execute_result",
          "data": {
            "text/plain": [
              "Text(0, 0.5, 'AUC values')"
            ]
          },
          "metadata": {
            "tags": []
          },
          "execution_count": 95
        },
        {
          "output_type": "display_data",
          "data": {
            "image/png": "[encoded data removed]",
            "text/plain": [
              "<Figure size 432x288 with 1 Axes>"
            ]
          },
          "metadata": {
            "tags": []
          }
        }
      ]
    },
    {
      "cell_type": "code",
      "metadata": {
        "id": "PoeUryRsMgNV",
        "colab_type": "code",
        "colab": {
          "base_uri": "https://localhost:8080/",
          "height": 295
        },
        "outputId": "84d83be3-4431-440e-b191-ea468b71b131"
      },
      "source": [
        "#Plotting ROC curve as FPR vs TPR\n",
        "\n",
        "model_roc_l1 = LogisticRegression(penalty='l1',solver='liblinear',C=optimal_C_tfidfw2v_l1,class_weight='balanced')\n",
        "model_roc_l1 = model_roc_l1.fit(tfidf_sent_vectors_train,y_train2)\n",
        "\n",
        "y_pred_train_l1 = model_roc_l1.predict_proba(tfidf_sent_vectors_train)[:,1]\n",
        "fpr1,tpr1,t1 = metrics.roc_curve(y_train2,y_pred_train_l1)\n",
        "\n",
        "y_pred_test_l1 = model_roc_l1.predict_proba(tfidf_sent_vectors_test)[:,1]\n",
        "fpr2,tpr2,t2 = metrics.roc_curve(y_test,y_pred_test_l1)\n",
        "\n",
        "plt.plot(fpr1,tpr1,label='Train ROC Curve=' +str(metrics.auc(fpr1,tpr1)))\n",
        "plt.plot(fpr2,tpr2,label='Test ROC Curve=' +str(metrics.auc(fpr2,tpr2)))\n",
        "plt.legend()\n",
        "plt.xlabel('False Positive Rate')\n",
        "plt.ylabel('True Positive Rate')\n",
        "plt.title('ROC curve of train and test data')\n",
        "plt.show()"
      ],
      "execution_count": 96,
      "outputs": [
        {
          "output_type": "display_data",
          "data": {
            "image/png": "[encoded data removed]",
            "text/plain": [
              "<Figure size 432x288 with 1 Axes>"
            ]
          },
          "metadata": {
            "tags": []
          }
        }
      ]
    },
    {
      "cell_type": "code",
      "metadata": {
        "id": "zt3Vu02lMgNX",
        "colab_type": "code",
        "colab": {
          "base_uri": "https://localhost:8080/",
          "height": 350
        },
        "outputId": "b5bbd367-07a0-4f16-ae91-deacbc393cf0"
      },
      "source": [
        "best_t_tfw2v_l1 = find_best_threshold(t1,fpr1,tpr1)\n",
        "print(\"*********Train confusion matrix*********\")\n",
        "print(confusion_matrix(y_train2, predict_with_best_t(y_pred_train_l1, best_t_tfw2v_l1)))\n",
        "cm_tr = confusion_matrix(y_train2, predict_with_best_t(y_pred_train_l1, best_t_tfw2v_l1))\n",
        "\n",
        "plt.figure()\n",
        "ax2 = plt.subplot()\n",
        "sns.heatmap(cm_tr,annot=True,ax=ax2,fmt='g')\n"
      ],
      "execution_count": 97,
      "outputs": [
        {
          "output_type": "stream",
          "text": [
            "the maximum value of tpr*(1-fpr) 0.6307020666781992 for threshold 0.475\n",
            "*********Train confusion matrix*********\n",
            "[[ 5037  1323]\n",
            " [ 7463 29185]]\n"
          ],
          "name": "stdout"
        },
        {
          "output_type": "execute_result",
          "data": {
            "text/plain": [
              "<matplotlib.axes._subplots.AxesSubplot at 0x7fb9d26b4860>"
            ]
          },
          "metadata": {
            "tags": []
          },
          "execution_count": 97
        },
        {
          "output_type": "display_data",
          "data": {
            "image/png": "[encoded data removed]",
            "text/plain": [
              "<Figure size 432x288 with 2 Axes>"
            ]
          },
          "metadata": {
            "tags": []
          }
        }
      ]
    },
    {
      "cell_type": "code",
      "metadata": {
        "id": "wg_LWi1tMgNZ",
        "colab_type": "code",
        "colab": {
          "base_uri": "https://localhost:8080/",
          "height": 333
        },
        "outputId": "e5a43ef8-9f43-4652-9d18-17f1d1ef3301"
      },
      "source": [
        "print(\"*********Test confusion matrix*********\")\n",
        "print(confusion_matrix(y_test, predict_with_best_t(y_pred_test_l1, best_t_tfw2v_l1)))\n",
        "cm_test = confusion_matrix(y_test, predict_with_best_t(y_pred_test_l1, best_t_tfw2v_l1))\n",
        "\n",
        "plt.figure()\n",
        "ax2 = plt.subplot()\n",
        "sns.heatmap(cm_test,annot=True,ax=ax2,fmt='g')"
      ],
      "execution_count": 98,
      "outputs": [
        {
          "output_type": "stream",
          "text": [
            "*********Test confusion matrix*********\n",
            "[[ 3619   937]\n",
            " [ 4840 16936]]\n"
          ],
          "name": "stdout"
        },
        {
          "output_type": "execute_result",
          "data": {
            "text/plain": [
              "<matplotlib.axes._subplots.AxesSubplot at 0x7fb9d267f6d8>"
            ]
          },
          "metadata": {
            "tags": []
          },
          "execution_count": 98
        },
        {
          "output_type": "display_data",
          "data": {
            "image/png": "[encoded data removed]",
            "text/plain": [
              "<Figure size 432x288 with 2 Axes>"
            ]
          },
          "metadata": {
            "tags": []
          }
        }
      ]
    },
    {
      "cell_type": "code",
      "metadata": {
        "id": "Dma3SDKVMgNa",
        "colab_type": "code",
        "colab": {
          "base_uri": "https://localhost:8080/",
          "height": 51
        },
        "outputId": "f6913287-b6d2-4a45-a18b-5d34b380f763"
      },
      "source": [
        "\n",
        "##Calculating sparsity on weight vector obtained using L1 regularization on AVG W2V\n",
        "#using already trained model\n",
        "\n",
        "coef_tfidfw2v_l1 = model_roc_l1.coef_.ravel()\n",
        "sparsity_tfidf2v_l1 = np.mean(coef_tfidfw2v_l1 == 0) * 100\n",
        "\n",
        "print('sparsity_tfidf2v_l1 ',sparsity_tfidf2v_l1)\n",
        "print('Number of non zero entries which indicates sparsity ',np.count_nonzero(model_roc_l1.coef_))"
      ],
      "execution_count": 99,
      "outputs": [
        {
          "output_type": "stream",
          "text": [
            "sparsity_tfidf2v_l1  0.0\n",
            "Number of non zero entries which indicates sparsity  50\n"
          ],
          "name": "stdout"
        }
      ]
    },
    {
      "cell_type": "markdown",
      "metadata": {
        "colab_type": "text",
        "id": "ynUK2tYDLPps"
      },
      "source": [
        "### [5.4.2] Applying Logistic Regression with L2 regularization on TFIDF W2V,<font color='red'> SET 4</font>"
      ]
    },
    {
      "cell_type": "code",
      "metadata": {
        "colab_type": "code",
        "id": "hVYuiXl2LPpt",
        "colab": {
          "base_uri": "https://localhost:8080/",
          "height": 347
        },
        "outputId": "63c3ab8a-fe9b-44ac-b1b2-f69ca14bb0b5"
      },
      "source": [
        "# Please write all the code with proper documentation\n",
        "\n",
        "hyperparameters = {'C':[10**-4,10**-2,10**0,10**2,10**4]}\n",
        "model = LogisticRegression(penalty='l2',class_weight='balanced')\n",
        "\n",
        "clf_tfidfw2v_l2 = RandomizedSearchCV(model,param_distributions=hyperparameters,scoring='roc_auc',cv=10,random_state=100,return_train_score=True)\n",
        "clf_tfidfw2v_l2.fit(tfidf_sent_vectors_train,y_train2)\n",
        "\n",
        "print('AUC score for Logistic Regression Model with TFIDF W2V features and l2 regularization ',clf_tfidfw2v_l2.cv_results_['mean_train_score'])\n",
        "\n",
        "AUC_tfidfw2v_train_l2 = clf_tfidfw2v_l2.cv_results_['mean_train_score']\n",
        "best_auc_score_tfidfw2v_l2 = clf_tfidfw2v_l2.best_score_\n",
        "optimal_C_tfidfw2v_l2 = clf_tfidfw2v_l2.best_params_['C']\n",
        "\n",
        "print('best_auc_score_tfidfw2v_l2 ',best_auc_score_tfidfw2v_l2)\n",
        "print('optimal_C_tfidfw2v_l2 ',optimal_C_tfidfw2v_l2)\n",
        "\n",
        "#finding auc scores for our CV data for validation\n",
        "AUC_tfidfw2v_CV_l2 = clf_tfidfw2v_l2.cv_results_['mean_test_score']\n",
        "    \n",
        "\n",
        "#plotting ROC curve for train and CV data\n",
        "plt.plot(np.log10(hyperparameters['C']),AUC_tfidfw2v_train_l2,label='Train AUC values')\n",
        "plt.plot(np.log10(hyperparameters['C']),AUC_tfidfw2v_CV_l2,label='CV AUC values')\n",
        "plt.legend()\n",
        "plt.grid()\n",
        "plt.xlabel('Hyperparameter - C')\n",
        "plt.ylabel('AUC values')\n",
        "\n",
        "#Observation : Our model is performing well when tested with CV data,so we can go ahead with considering best value of C as optimal_C_bow_l2  \n"
      ],
      "execution_count": 100,
      "outputs": [
        {
          "output_type": "stream",
          "text": [
            "AUC score for Logistic Regression Model with TFIDF W2V features and l2 regularization  [0.85169548 0.87213248 0.87352902 0.87353148 0.87353143]\n",
            "best_auc_score_tfidfw2v_l2  0.8707681835680982\n",
            "optimal_C_tfidfw2v_l2  1\n"
          ],
          "name": "stdout"
        },
        {
          "output_type": "execute_result",
          "data": {
            "text/plain": [
              "Text(0, 0.5, 'AUC values')"
            ]
          },
          "metadata": {
            "tags": []
          },
          "execution_count": 100
        },
        {
          "output_type": "display_data",
          "data": {
            "image/png": "[encoded data removed]",
            "text/plain": [
              "<Figure size 432x288 with 1 Axes>"
            ]
          },
          "metadata": {
            "tags": []
          }
        }
      ]
    },
    {
      "cell_type": "code",
      "metadata": {
        "id": "07jQ_oj5MgNe",
        "colab_type": "code",
        "colab": {
          "base_uri": "https://localhost:8080/",
          "height": 295
        },
        "outputId": "5e27d190-4289-406c-e812-76915ee4f27e"
      },
      "source": [
        "#Plotting ROC curve as FPR vs TPR\n",
        "\n",
        "model_roc_l2 = LogisticRegression(penalty='l2',C=optimal_C_tfidfw2v_l2,class_weight='balanced')\n",
        "model_roc_l2 = model_roc_l2.fit(tfidf_sent_vectors_train,y_train2)\n",
        "\n",
        "y_pred_train_l2 = model_roc_l2.predict_proba(tfidf_sent_vectors_train)[:,1]\n",
        "fpr1,tpr1,t1 = metrics.roc_curve(y_train2,y_pred_train_l2)\n",
        "\n",
        "y_pred_test_l2 = model_roc_l2.predict_proba(tfidf_sent_vectors_test)[:,1]\n",
        "fpr2,tpr2,t2 = metrics.roc_curve(y_test,y_pred_test_l2)\n",
        "\n",
        "plt.plot(fpr1,tpr1,label='Train ROC Curve=' +str(metrics.auc(fpr1,tpr1)))\n",
        "plt.plot(fpr2,tpr2,label='Test ROC Curve=' +str(metrics.auc(fpr2,tpr2)))\n",
        "plt.legend()\n",
        "plt.grid()\n",
        "plt.xlabel('False Positive Rate')\n",
        "plt.ylabel('True Positive Rate')\n",
        "plt.title('ROC curve of train and test data')\n",
        "plt.show()\n",
        "\n"
      ],
      "execution_count": 101,
      "outputs": [
        {
          "output_type": "display_data",
          "data": {
            "image/png": "[encoded data removed]",
            "text/plain": [
              "<Figure size 432x288 with 1 Axes>"
            ]
          },
          "metadata": {
            "tags": []
          }
        }
      ]
    },
    {
      "cell_type": "code",
      "metadata": {
        "id": "AHYpM42iMgNg",
        "colab_type": "code",
        "colab": {
          "base_uri": "https://localhost:8080/",
          "height": 350
        },
        "outputId": "d6243fca-85c8-4029-dc20-b3e5d793acfd"
      },
      "source": [
        "best_t_tfw2v_l2 = find_best_threshold(t1,fpr1,tpr1)\n",
        "print(\"*********Train confusion matrix*********\")\n",
        "print(confusion_matrix(y_train2, predict_with_best_t(y_pred_train_l2, best_t_tfw2v_l2)))\n",
        "cm_tr = confusion_matrix(y_train2, predict_with_best_t(y_pred_train_l2, best_t_tfw2v_l2))\n",
        "\n",
        "plt.figure()\n",
        "ax2 = plt.subplot()\n",
        "sns.heatmap(cm_tr,annot=True,ax=ax2,fmt='g')\n"
      ],
      "execution_count": 102,
      "outputs": [
        {
          "output_type": "stream",
          "text": [
            "the maximum value of tpr*(1-fpr) 0.6309785839514868 for threshold 0.475\n",
            "*********Train confusion matrix*********\n",
            "[[ 5038  1322]\n",
            " [ 7456 29192]]\n"
          ],
          "name": "stdout"
        },
        {
          "output_type": "execute_result",
          "data": {
            "text/plain": [
              "<matplotlib.axes._subplots.AxesSubplot at 0x7fb9d23384a8>"
            ]
          },
          "metadata": {
            "tags": []
          },
          "execution_count": 102
        },
        {
          "output_type": "display_data",
          "data": {
            "image/png": "[encoded data removed]",
            "text/plain": [
              "<Figure size 432x288 with 2 Axes>"
            ]
          },
          "metadata": {
            "tags": []
          }
        }
      ]
    },
    {
      "cell_type": "code",
      "metadata": {
        "id": "jY5-1sCBMgNi",
        "colab_type": "code",
        "colab": {
          "base_uri": "https://localhost:8080/",
          "height": 333
        },
        "outputId": "9ee800fc-d2ce-49c4-bd0e-ab6f8ec31b18"
      },
      "source": [
        "print(\"*********Test confusion matrix*********\")\n",
        "print(confusion_matrix(y_test, predict_with_best_t(y_pred_test_l2, best_t_tfw2v_l2)))\n",
        "cm_test = confusion_matrix(y_test, predict_with_best_t(y_pred_test_l2, best_t_tfw2v_l2))\n",
        "\n",
        "plt.figure()\n",
        "ax2 = plt.subplot()\n",
        "sns.heatmap(cm_test,annot=True,ax=ax2,fmt='g')"
      ],
      "execution_count": 103,
      "outputs": [
        {
          "output_type": "stream",
          "text": [
            "*********Test confusion matrix*********\n",
            "[[ 3619   937]\n",
            " [ 4840 16936]]\n"
          ],
          "name": "stdout"
        },
        {
          "output_type": "execute_result",
          "data": {
            "text/plain": [
              "<matplotlib.axes._subplots.AxesSubplot at 0x7fb9d2206f60>"
            ]
          },
          "metadata": {
            "tags": []
          },
          "execution_count": 103
        },
        {
          "output_type": "display_data",
          "data": {
            "image/png": "[encoded data removed]",
            "text/plain": [
              "<Figure size 432x288 with 2 Axes>"
            ]
          },
          "metadata": {
            "tags": []
          }
        }
      ]
    },
    {
      "cell_type": "code",
      "metadata": {
        "id": "rB6bEntPMgNk",
        "colab_type": "code",
        "colab": {
          "base_uri": "https://localhost:8080/",
          "height": 51
        },
        "outputId": "244e6cc6-2ef8-4b63-a839-c1ab748502e7"
      },
      "source": [
        "\n",
        "##Calculating sparsity on weight vector obtained using l2 regularization on AVG W2V\n",
        "#using already trained model\n",
        "\n",
        "coef_tfidfw2v_l2 = model_roc_l2.coef_.ravel()\n",
        "sparsity_tfidf2v_l2 = np.mean(coef_tfidfw2v_l2 == 0) * 100\n",
        "\n",
        "print('sparsity_tfidf2v_l2 ',sparsity_tfidf2v_l2)\n",
        "print('Number of non zero entries which indicates sparsity ',np.count_nonzero(model_roc_l2.coef_))"
      ],
      "execution_count": 104,
      "outputs": [
        {
          "output_type": "stream",
          "text": [
            "sparsity_tfidf2v_l2  0.0\n",
            "Number of non zero entries which indicates sparsity  50\n"
          ],
          "name": "stdout"
        }
      ]
    },
    {
      "cell_type": "markdown",
      "metadata": {
        "colab_type": "text",
        "id": "nOvsBNf2LPpv"
      },
      "source": [
        "# [6] Conclusions"
      ]
    },
    {
      "cell_type": "code",
      "metadata": {
        "colab_type": "code",
        "id": "T7VxD0q2LPpw",
        "colab": {
          "base_uri": "https://localhost:8080/",
          "height": 255
        },
        "outputId": "153e018c-4ee5-43c0-e1f1-d0b979213b85"
      },
      "source": [
        "# Please compare all your models using Prettytable library\n",
        "print('Number of data points used : 100k\\n')\n",
        "from prettytable import PrettyTable    \n",
        "x = PrettyTable()\n",
        "x.field_names = [\"Vectorizer\",\"Regularization\", \"Hyperameter(lambda)\", \"AUC\",'sparsity']\n",
        "x.add_row([\"BOW\",\"l1\",optimal_C_bow_l1,best_auc_score_bow_l1,sparsity_bow_l1])\n",
        "x.add_row([\"BOW\",\"l2\",optimal_C_bow_l2,best_auc_score_bow_l2,sparsity_bow_l2])\n",
        "x.add_row([\"TFIDF\",\"l1\",optimal_C_tfidf_l1,best_auc_score_tfidf_l1,sparsity_tfidf_l1])\n",
        "x.add_row([\"TFIDF\",\"l2\",optimal_C_tfidf_l2,best_auc_score_tfidf_l2,sparsity_tfidf_l2])\n",
        "x.add_row([\"Avg W2v\",\"l1\",optimal_C_avgw2v_l1,best_auc_score_avgw2v_l1,'N/A'])\n",
        "x.add_row([\"Avg W2v\",\"l2\",optimal_C_avgw2v_l2,best_auc_score_avgw2v_l2,'N/A'])\n",
        "x.add_row([\"TFIDF Avg W2v\",'l1',optimal_C_tfidfw2v_l1,best_auc_score_tfidfw2v_l1,'N/A'])\n",
        "x.add_row([\"TFIDF Avg W2v\",\"l2\",optimal_C_tfidfw2v_l2,best_auc_score_tfidfw2v_l2,'N/A'])\n",
        "print(x)"
      ],
      "execution_count": 105,
      "outputs": [
        {
          "output_type": "stream",
          "text": [
            "Number of data points used : 100k\n",
            "\n",
            "+---------------+----------------+---------------------+--------------------+-------------------+\n",
            "|   Vectorizer  | Regularization | Hyperameter(lambda) |        AUC         |      sparsity     |\n",
            "+---------------+----------------+---------------------+--------------------+-------------------+\n",
            "|      BOW      |       l1       |          1          | 0.919703726203928  | 89.14776685501974 |\n",
            "|      BOW      |       l2       |         0.01        | 0.9261930805224466 |        0.0        |\n",
            "|     TFIDF     |       l1       |          1          | 0.948897972639003  |  93.2267316229914 |\n",
            "|     TFIDF     |       l2       |          1          | 0.9558950377524006 |        0.0        |\n",
            "|    Avg W2v    |       l1       |          1          | 0.8940469734684754 |        N/A        |\n",
            "|    Avg W2v    |       l2       |          1          | 0.8944570785532276 |        N/A        |\n",
            "| TFIDF Avg W2v |       l1       |          1          | 0.8707662115672227 |        N/A        |\n",
            "| TFIDF Avg W2v |       l2       |          1          | 0.8707681835680982 |        N/A        |\n",
            "+---------------+----------------+---------------------+--------------------+-------------------+\n"
          ],
          "name": "stdout"
        }
      ]
    },
    {
      "cell_type": "code",
      "metadata": {
        "id": "jo7ML1uvMgNo",
        "colab_type": "code",
        "colab": {}
      },
      "source": [
        ""
      ],
      "execution_count": 0,
      "outputs": []
    }
  ]
}